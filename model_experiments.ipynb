{
 "cells": [
  {
   "cell_type": "markdown",
   "id": "a68a2f0f",
   "metadata": {},
   "source": [
    "## Load the data & basic integrity checks"
   ]
  },
  {
   "cell_type": "code",
   "execution_count": 2,
   "id": "3eb737da",
   "metadata": {
    "ExecuteTime": {
     "end_time": "2025-08-08T15:39:57.092303Z",
     "start_time": "2025-08-08T15:39:56.749693Z"
    }
   },
   "outputs": [
    {
     "data": {
      "text/html": [
       "<div>\n",
       "<style scoped>\n",
       "    .dataframe tbody tr th:only-of-type {\n",
       "        vertical-align: middle;\n",
       "    }\n",
       "\n",
       "    .dataframe tbody tr th {\n",
       "        vertical-align: top;\n",
       "    }\n",
       "\n",
       "    .dataframe thead th {\n",
       "        text-align: right;\n",
       "    }\n",
       "</style>\n",
       "<table border=\"1\" class=\"dataframe\">\n",
       "  <thead>\n",
       "    <tr style=\"text-align: right;\">\n",
       "      <th></th>\n",
       "      <th>Chapter</th>\n",
       "      <th>Chapter_name</th>\n",
       "      <th>Chapter_subtype</th>\n",
       "      <th>Section</th>\n",
       "      <th>Section_name</th>\n",
       "      <th>Description</th>\n",
       "      <th>Chapter_short</th>\n",
       "      <th>desc_len_chars</th>\n",
       "      <th>desc_len_words</th>\n",
       "      <th>has_crossref</th>\n",
       "      <th>Chapter_grouped</th>\n",
       "    </tr>\n",
       "  </thead>\n",
       "  <tbody>\n",
       "    <tr>\n",
       "      <th>266</th>\n",
       "      <td>14</td>\n",
       "      <td>OF FALSE EVIDENCE AND OFFENCES AGAINST PUBLIC ...</td>\n",
       "      <td>OF FALSE EVIDENCE AND OFFENCES AGAINST PUBLIC ...</td>\n",
       "      <td>267</td>\n",
       "      <td>Intentional insult or interruption to public s...</td>\n",
       "      <td>Whoever, intentionally offers any insult, or c...</td>\n",
       "      <td>FalseEvidence_PublicJustice</td>\n",
       "      <td>322</td>\n",
       "      <td>54</td>\n",
       "      <td>False</td>\n",
       "      <td>FalseEvidence_PublicJustice</td>\n",
       "    </tr>\n",
       "    <tr>\n",
       "      <th>64</th>\n",
       "      <td>5</td>\n",
       "      <td>OF OFFENCES AGAINST WOMAN AND CHILD</td>\n",
       "      <td>Of sexual offences</td>\n",
       "      <td>65</td>\n",
       "      <td>Punishment for rape in certain cases</td>\n",
       "      <td>(1) Whoever, commits rape on a woman under six...</td>\n",
       "      <td>Offences_WomenChild</td>\n",
       "      <td>1060</td>\n",
       "      <td>179</td>\n",
       "      <td>False</td>\n",
       "      <td>Offences_WomenChild</td>\n",
       "    </tr>\n",
       "    <tr>\n",
       "      <th>89</th>\n",
       "      <td>5</td>\n",
       "      <td>OF OFFENCES AGAINST WOMAN AND CHILD</td>\n",
       "      <td>Of causing miscarriage, etc</td>\n",
       "      <td>90</td>\n",
       "      <td>Death caused by act done with intent to cause ...</td>\n",
       "      <td>1) Whoever, with intent to cause the miscarria...</td>\n",
       "      <td>Offences_WomenChild</td>\n",
       "      <td>578</td>\n",
       "      <td>100</td>\n",
       "      <td>False</td>\n",
       "      <td>Offences_WomenChild</td>\n",
       "    </tr>\n",
       "    <tr>\n",
       "      <th>139</th>\n",
       "      <td>6</td>\n",
       "      <td>OF OFFENCES AFFECTING THE HUMAN BODY</td>\n",
       "      <td>Of kidnapping, abduction, slavery and forced l...</td>\n",
       "      <td>140</td>\n",
       "      <td>Kidnapping or abducting in order to murder or ...</td>\n",
       "      <td>(1) Whoever kidnaps or abducts any person in o...</td>\n",
       "      <td>Offences_HumanBody</td>\n",
       "      <td>1883</td>\n",
       "      <td>343</td>\n",
       "      <td>False</td>\n",
       "      <td>Offences_HumanBody</td>\n",
       "    </tr>\n",
       "    <tr>\n",
       "      <th>16</th>\n",
       "      <td>3</td>\n",
       "      <td>General exceptions</td>\n",
       "      <td>General exceptions</td>\n",
       "      <td>17</td>\n",
       "      <td>Act done by a person justified, or by mistake ...</td>\n",
       "      <td>Nothing is an offence which is done by any per...</td>\n",
       "      <td>General_Exceptions</td>\n",
       "      <td>589</td>\n",
       "      <td>116</td>\n",
       "      <td>False</td>\n",
       "      <td>General_Exceptions</td>\n",
       "    </tr>\n",
       "  </tbody>\n",
       "</table>\n",
       "</div>"
      ],
      "text/plain": [
       "     Chapter                                       Chapter_name  \\\n",
       "266       14  OF FALSE EVIDENCE AND OFFENCES AGAINST PUBLIC ...   \n",
       "64         5                OF OFFENCES AGAINST WOMAN AND CHILD   \n",
       "89         5                OF OFFENCES AGAINST WOMAN AND CHILD   \n",
       "139        6               OF OFFENCES AFFECTING THE HUMAN BODY   \n",
       "16         3                                 General exceptions   \n",
       "\n",
       "                                       Chapter_subtype  Section  \\\n",
       "266  OF FALSE EVIDENCE AND OFFENCES AGAINST PUBLIC ...      267   \n",
       "64                                  Of sexual offences       65   \n",
       "89                         Of causing miscarriage, etc       90   \n",
       "139  Of kidnapping, abduction, slavery and forced l...      140   \n",
       "16                                  General exceptions       17   \n",
       "\n",
       "                                          Section_name  \\\n",
       "266  Intentional insult or interruption to public s...   \n",
       "64                Punishment for rape in certain cases   \n",
       "89   Death caused by act done with intent to cause ...   \n",
       "139  Kidnapping or abducting in order to murder or ...   \n",
       "16   Act done by a person justified, or by mistake ...   \n",
       "\n",
       "                                           Description  \\\n",
       "266  Whoever, intentionally offers any insult, or c...   \n",
       "64   (1) Whoever, commits rape on a woman under six...   \n",
       "89   1) Whoever, with intent to cause the miscarria...   \n",
       "139  (1) Whoever kidnaps or abducts any person in o...   \n",
       "16   Nothing is an offence which is done by any per...   \n",
       "\n",
       "                   Chapter_short  desc_len_chars  desc_len_words  \\\n",
       "266  FalseEvidence_PublicJustice             322              54   \n",
       "64           Offences_WomenChild            1060             179   \n",
       "89           Offences_WomenChild             578             100   \n",
       "139           Offences_HumanBody            1883             343   \n",
       "16            General_Exceptions             589             116   \n",
       "\n",
       "     has_crossref              Chapter_grouped  \n",
       "266         False  FalseEvidence_PublicJustice  \n",
       "64          False          Offences_WomenChild  \n",
       "89          False          Offences_WomenChild  \n",
       "139         False           Offences_HumanBody  \n",
       "16          False           General_Exceptions  "
      ]
     },
     "execution_count": 2,
     "metadata": {},
     "output_type": "execute_result"
    }
   ],
   "source": [
    "import pandas as pd\n",
    "\n",
    "df = pd.read_csv('bns_processed.csv')\n",
    "\n",
    "df.sample(5)"
   ]
  },
  {
   "cell_type": "markdown",
   "id": "d9732849",
   "metadata": {},
   "source": [
    "## Pre-processing text"
   ]
  },
  {
   "cell_type": "code",
   "execution_count": 3,
   "id": "edb11332",
   "metadata": {
    "ExecuteTime": {
     "end_time": "2025-08-08T15:55:13.993915Z",
     "start_time": "2025-08-08T15:55:12.641231Z"
    }
   },
   "outputs": [
    {
     "name": "stderr",
     "output_type": "stream",
     "text": [
      "[nltk_data] Downloading package stopwords to /home/vasant/nltk_data...\n",
      "[nltk_data]   Package stopwords is already up-to-date!\n",
      "[nltk_data] Downloading package wordnet to /home/vasant/nltk_data...\n",
      "[nltk_data]   Package wordnet is already up-to-date!\n",
      "[nltk_data] Downloading package omw-1.4 to /home/vasant/nltk_data...\n",
      "[nltk_data]   Package omw-1.4 is already up-to-date!\n"
     ]
    }
   ],
   "source": [
    "import re\n",
    "import string\n",
    "import nltk\n",
    "from nltk.corpus import stopwords\n",
    "from nltk.stem import WordNetLemmatizer\n",
    "\n",
    "nltk.download('stopwords')\n",
    "nltk.download('wordnet')\n",
    "nltk.download('omw-1.4')\n",
    "\n",
    "stop_words = set(stopwords.words('english'))\n",
    "lemmatizer = WordNetLemmatizer()\n",
    "\n",
    "def clean_text(text):\n",
    "    text = text.lower()  # lowercase\n",
    "    text = re.sub(r'section\\s*\\d+[a-zA-Z()]*', '', text)  # remove 'section xx'\n",
    "    text = re.sub(r'\\d+', '', text)  # remove digits\n",
    "    text = text.translate(str.maketrans('', '', string.punctuation))  # remove punctuation\n",
    "    tokens = text.split()\n",
    "    tokens = [lemmatizer.lemmatize(word) for word in tokens if word not in stop_words]\n",
    "    return ' '.join(tokens)\n"
   ]
  },
  {
   "cell_type": "code",
   "execution_count": 4,
   "id": "cee20357",
   "metadata": {},
   "outputs": [],
   "source": [
    "df['raw_text'] = df['Description']\n",
    "df['clean_text'] = df['Description'].astype(str).apply(clean_text)"
   ]
  },
  {
   "cell_type": "markdown",
   "id": "a7cbe222",
   "metadata": {},
   "source": [
    "## Option 1: TF-IDF (Baseline & interpretable)"
   ]
  },
  {
   "cell_type": "code",
   "execution_count": 23,
   "id": "501dde38",
   "metadata": {},
   "outputs": [
    {
     "data": {
      "text/plain": [
       "(358, 5000)"
      ]
     },
     "execution_count": 23,
     "metadata": {},
     "output_type": "execute_result"
    }
   ],
   "source": [
    "from sklearn.feature_extraction.text import TfidfVectorizer\n",
    "\n",
    "tfidf = TfidfVectorizer(\n",
    "    stop_words='english',\n",
    "    max_features=5000,\n",
    "    ngram_range=(1,2)  # include unigrams and bigrams\n",
    ")\n",
    "\n",
    "X_tfidf = tfidf.fit_transform(df['clean_text'])\n",
    "X_tfidf.shape  # (358, 5000) e.g."
   ]
  },
  {
   "cell_type": "markdown",
   "id": "75a0b638",
   "metadata": {},
   "source": [
    "## Option 2: Sentence Embeddings (For semantic similarity / classification)"
   ]
  },
  {
   "cell_type": "code",
   "execution_count": 5,
   "id": "0d95de6a",
   "metadata": {},
   "outputs": [
    {
     "name": "stderr",
     "output_type": "stream",
     "text": [
      "/home/vasant/projects/Bhartiya-Nyay-Sanhita-LegalVerse/.venv/lib/python3.10/site-packages/tqdm/auto.py:21: TqdmWarning: IProgress not found. Please update jupyter and ipywidgets. See https://ipywidgets.readthedocs.io/en/stable/user_install.html\n",
      "  from .autonotebook import tqdm as notebook_tqdm\n",
      "Batches: 100%|██████████████████████████████████████████████████████████████████████████| 12/12 [00:03<00:00,  3.03it/s]\n"
     ]
    }
   ],
   "source": [
    "from sentence_transformers import SentenceTransformer\n",
    "\n",
    "model = SentenceTransformer('all-MiniLM-L6-v2')  # small and fast\n",
    "X_embed = model.encode(df['Description'].tolist(), show_progress_bar=True)"
   ]
  },
  {
   "cell_type": "markdown",
   "id": "cdae137d",
   "metadata": {},
   "source": [
    "## Option 3: BERT Tokenization (for deep model inputs)"
   ]
  },
  {
   "cell_type": "code",
   "execution_count": 6,
   "id": "19c4ed26",
   "metadata": {},
   "outputs": [],
   "source": [
    "from transformers import BertTokenizer\n",
    "\n",
    "tokenizer = BertTokenizer.from_pretrained('bert-base-uncased')\n",
    "\n",
    "tokens = tokenizer(\n",
    "    df['Description'].tolist(),\n",
    "    padding=True,\n",
    "    truncation=True,\n",
    "    max_length=512,\n",
    "    return_tensors='pt'\n",
    ")"
   ]
  },
  {
   "cell_type": "markdown",
   "id": "764120aa",
   "metadata": {},
   "source": [
    "## Modeling (Baseline with TF-IDF + Logistic Regression)"
   ]
  },
  {
   "cell_type": "markdown",
   "id": "27e3eb01",
   "metadata": {},
   "source": [
    "### 1. Prepare Labels"
   ]
  },
  {
   "cell_type": "code",
   "execution_count": 16,
   "id": "d8233b8f",
   "metadata": {},
   "outputs": [
    {
     "data": {
      "text/plain": [
       "array(['Other', 'Punishments', 'General_Exceptions',\n",
       "       'Right_PrivateDefence', 'Abetment_Conspiracy_Attempt',\n",
       "       'Offences_WomenChild', 'Offences_HumanBody', 'Offences_State',\n",
       "       'Offences_ArmedForces', 'Offences_Elections', 'Offences_Currency',\n",
       "       'Offences_PublicTranquillity', 'Offences_PublicServants',\n",
       "       'Contempt_PublicServants', 'FalseEvidence_PublicJustice',\n",
       "       'Offences_PublicHealthSafety', 'Offences_Religion',\n",
       "       'Offences_Property', 'Offences_Documents_PropertyMarks',\n",
       "       'Property_Marks', 'CriminalIntimidation_Defamation'], dtype=object)"
      ]
     },
     "execution_count": 16,
     "metadata": {},
     "output_type": "execute_result"
    }
   ],
   "source": [
    "df['Chapter_grouped'].unique()"
   ]
  },
  {
   "cell_type": "code",
   "execution_count": 24,
   "id": "8211c86c",
   "metadata": {},
   "outputs": [],
   "source": [
    "from sklearn.model_selection import train_test_split, cross_val_score\n",
    "from sklearn.preprocessing import LabelEncoder\n",
    "\n",
    "# Encode labels\n",
    "le = LabelEncoder()\n",
    "y = le.fit_transform(df['Chapter_grouped'])\n",
    "\n",
    "# Split TF-IDF features and labels\n",
    "X_train, X_test, y_train, y_test = train_test_split(\n",
    "    X_tfidf, y, test_size=0.2, random_state=42, stratify=y)"
   ]
  },
  {
   "cell_type": "markdown",
   "id": "ed52025d",
   "metadata": {},
   "source": [
    "### 2. Train a Logistic Regression Model"
   ]
  },
  {
   "cell_type": "code",
   "execution_count": 9,
   "id": "d1fc1799",
   "metadata": {},
   "outputs": [],
   "source": [
    "from sklearn.linear_model import LogisticRegression\n",
    "from sklearn.metrics import classification_report, confusion_matrix\n",
    "\n",
    "clf = LogisticRegression(max_iter=1000, class_weight='balanced')\n",
    "clf.fit(X_train, y_train)\n",
    "\n",
    "y_pred = clf.predict(X_test)"
   ]
  },
  {
   "cell_type": "markdown",
   "id": "be3716d0",
   "metadata": {},
   "source": [
    "### 3. Evaluate"
   ]
  },
  {
   "cell_type": "code",
   "execution_count": 10,
   "id": "579174df",
   "metadata": {},
   "outputs": [
    {
     "name": "stdout",
     "output_type": "stream",
     "text": [
      "Classification Report:\n",
      "                                  precision    recall  f1-score   support\n",
      "\n",
      "     Abetment_Conspiracy_Attempt       0.80      1.00      0.89         4\n",
      "         Contempt_PublicServants       0.60      0.75      0.67         4\n",
      " CriminalIntimidation_Defamation       0.00      0.00      0.00         1\n",
      "     FalseEvidence_PublicJustice       0.83      0.56      0.67         9\n",
      "              General_Exceptions       0.57      1.00      0.73         4\n",
      "            Offences_ArmedForces       1.00      0.50      0.67         2\n",
      "               Offences_Currency       1.00      0.50      0.67         2\n",
      "Offences_Documents_PropertyMarks       1.00      1.00      1.00         2\n",
      "              Offences_Elections       1.00      1.00      1.00         2\n",
      "              Offences_HumanBody       0.88      0.70      0.78        10\n",
      "               Offences_Property       0.67      1.00      0.80         6\n",
      "     Offences_PublicHealthSafety       1.00      0.83      0.91         6\n",
      "         Offences_PublicServants       0.33      0.50      0.40         2\n",
      "     Offences_PublicTranquillity       1.00      1.00      1.00         2\n",
      "               Offences_Religion       1.00      1.00      1.00         1\n",
      "                  Offences_State       0.67      1.00      0.80         2\n",
      "             Offences_WomenChild       0.86      0.86      0.86         7\n",
      "                           Other       0.00      0.00      0.00         1\n",
      "                  Property_Marks       1.00      1.00      1.00         1\n",
      "                     Punishments       0.00      0.00      0.00         2\n",
      "            Right_PrivateDefence       1.00      1.00      1.00         2\n",
      "\n",
      "                        accuracy                           0.76        72\n",
      "                       macro avg       0.72      0.72      0.71        72\n",
      "                    weighted avg       0.78      0.76      0.75        72\n",
      "\n"
     ]
    },
    {
     "name": "stderr",
     "output_type": "stream",
     "text": [
      "/home/pamya/anaconda3/lib/python3.9/site-packages/sklearn/metrics/_classification.py:1509: UndefinedMetricWarning: Precision is ill-defined and being set to 0.0 in labels with no predicted samples. Use `zero_division` parameter to control this behavior.\n",
      "  _warn_prf(average, modifier, f\"{metric.capitalize()} is\", len(result))\n",
      "/home/pamya/anaconda3/lib/python3.9/site-packages/sklearn/metrics/_classification.py:1509: UndefinedMetricWarning: Precision is ill-defined and being set to 0.0 in labels with no predicted samples. Use `zero_division` parameter to control this behavior.\n",
      "  _warn_prf(average, modifier, f\"{metric.capitalize()} is\", len(result))\n",
      "/home/pamya/anaconda3/lib/python3.9/site-packages/sklearn/metrics/_classification.py:1509: UndefinedMetricWarning: Precision is ill-defined and being set to 0.0 in labels with no predicted samples. Use `zero_division` parameter to control this behavior.\n",
      "  _warn_prf(average, modifier, f\"{metric.capitalize()} is\", len(result))\n"
     ]
    }
   ],
   "source": [
    "print(\"Classification Report:\")\n",
    "print(classification_report(y_test, y_pred, target_names=le.classes_))"
   ]
  },
  {
   "cell_type": "code",
   "execution_count": 11,
   "id": "9900346a",
   "metadata": {},
   "outputs": [
    {
     "data": {
      "image/png": "[encoded data removed]",
      "text/plain": [
       "<Figure size 1584x1080 with 2 Axes>"
      ]
     },
     "metadata": {
      "needs_background": "light"
     },
     "output_type": "display_data"
    }
   ],
   "source": [
    "import matplotlib.pyplot as plt\n",
    "import seaborn as sns\n",
    "\n",
    "cm = confusion_matrix(y_test, y_pred)\n",
    "plt.figure(figsize=(22, 15))\n",
    "sns.heatmap(cm, annot=True, fmt='d', cmap='Blues', xticklabels=le.classes_, yticklabels=le.classes_)\n",
    "plt.title(\"Confusion Matrix\")\n",
    "plt.xlabel(\"Predicted\")\n",
    "plt.ylabel(\"True\")\n",
    "plt.xticks(rotation=30)\n",
    "plt.yticks(rotation=30)\n",
    "plt.tight_layout()\n",
    "plt.show()"
   ]
  },
  {
   "cell_type": "code",
   "execution_count": 12,
   "id": "f32452d8",
   "metadata": {},
   "outputs": [],
   "source": [
    "from sklearn.ensemble import RandomForestClassifier\n",
    "from sklearn.svm import LinearSVC\n",
    "from sklearn.naive_bayes import MultinomialNB\n",
    "from sklearn.pipeline import Pipeline\n",
    "\n",
    "\n",
    "# Models to test\n",
    "models = {\n",
    "    \"Random Forest\": RandomForestClassifier(n_estimators=200, random_state=42),\n",
    "    \"SVM\": LinearSVC(random_state=42),\n",
    "    \"Naive Bayes\": MultinomialNB(),\n",
    "    \"Logistic Regression\": LogisticRegression(max_iter=200, random_state=42)\n",
    "}"
   ]
  },
  {
   "cell_type": "code",
   "execution_count": 13,
   "id": "9cdd2a7b",
   "metadata": {},
   "outputs": [
    {
     "name": "stderr",
     "output_type": "stream",
     "text": [
      "/home/pamya/anaconda3/lib/python3.9/site-packages/sklearn/model_selection/_split.py:737: UserWarning: The least populated class in y has only 4 members, which is less than n_splits=5.\n",
      "  warnings.warn(\n",
      "/home/pamya/anaconda3/lib/python3.9/site-packages/sklearn/model_selection/_split.py:737: UserWarning: The least populated class in y has only 4 members, which is less than n_splits=5.\n",
      "  warnings.warn(\n",
      "/home/pamya/anaconda3/lib/python3.9/site-packages/sklearn/svm/_classes.py:31: FutureWarning: The default value of `dual` will change from `True` to `'auto'` in 1.5. Set the value of `dual` explicitly to suppress the warning.\n",
      "  warnings.warn(\n",
      "/home/pamya/anaconda3/lib/python3.9/site-packages/sklearn/svm/_classes.py:31: FutureWarning: The default value of `dual` will change from `True` to `'auto'` in 1.5. Set the value of `dual` explicitly to suppress the warning.\n",
      "  warnings.warn(\n",
      "/home/pamya/anaconda3/lib/python3.9/site-packages/sklearn/svm/_classes.py:31: FutureWarning: The default value of `dual` will change from `True` to `'auto'` in 1.5. Set the value of `dual` explicitly to suppress the warning.\n",
      "  warnings.warn(\n",
      "/home/pamya/anaconda3/lib/python3.9/site-packages/sklearn/svm/_classes.py:31: FutureWarning: The default value of `dual` will change from `True` to `'auto'` in 1.5. Set the value of `dual` explicitly to suppress the warning.\n",
      "  warnings.warn(\n",
      "/home/pamya/anaconda3/lib/python3.9/site-packages/sklearn/svm/_classes.py:31: FutureWarning: The default value of `dual` will change from `True` to `'auto'` in 1.5. Set the value of `dual` explicitly to suppress the warning.\n",
      "  warnings.warn(\n",
      "/home/pamya/anaconda3/lib/python3.9/site-packages/sklearn/model_selection/_split.py:737: UserWarning: The least populated class in y has only 4 members, which is less than n_splits=5.\n",
      "  warnings.warn(\n",
      "/home/pamya/anaconda3/lib/python3.9/site-packages/sklearn/model_selection/_split.py:737: UserWarning: The least populated class in y has only 4 members, which is less than n_splits=5.\n",
      "  warnings.warn(\n"
     ]
    },
    {
     "data": {
      "text/html": [
       "<div>\n",
       "<style scoped>\n",
       "    .dataframe tbody tr th:only-of-type {\n",
       "        vertical-align: middle;\n",
       "    }\n",
       "\n",
       "    .dataframe tbody tr th {\n",
       "        vertical-align: top;\n",
       "    }\n",
       "\n",
       "    .dataframe thead th {\n",
       "        text-align: right;\n",
       "    }\n",
       "</style>\n",
       "<table border=\"1\" class=\"dataframe\">\n",
       "  <thead>\n",
       "    <tr style=\"text-align: right;\">\n",
       "      <th></th>\n",
       "      <th>Model</th>\n",
       "      <th>Mean F1 Score</th>\n",
       "    </tr>\n",
       "  </thead>\n",
       "  <tbody>\n",
       "    <tr>\n",
       "      <th>1</th>\n",
       "      <td>SVM</td>\n",
       "      <td>0.673821</td>\n",
       "    </tr>\n",
       "    <tr>\n",
       "      <th>0</th>\n",
       "      <td>Random Forest</td>\n",
       "      <td>0.484345</td>\n",
       "    </tr>\n",
       "    <tr>\n",
       "      <th>3</th>\n",
       "      <td>Logistic Regression</td>\n",
       "      <td>0.335245</td>\n",
       "    </tr>\n",
       "    <tr>\n",
       "      <th>2</th>\n",
       "      <td>Naive Bayes</td>\n",
       "      <td>0.207054</td>\n",
       "    </tr>\n",
       "  </tbody>\n",
       "</table>\n",
       "</div>"
      ],
      "text/plain": [
       "                 Model  Mean F1 Score\n",
       "1                  SVM       0.673821\n",
       "0        Random Forest       0.484345\n",
       "3  Logistic Regression       0.335245\n",
       "2          Naive Bayes       0.207054"
      ]
     },
     "execution_count": 13,
     "metadata": {},
     "output_type": "execute_result"
    }
   ],
   "source": [
    "results = {}\n",
    "for name, model in models.items():\n",
    "    pipeline = Pipeline([\n",
    "        ('clf', model)\n",
    "    ])\n",
    "    scores = cross_val_score(pipeline, X_train, y_train, cv=5, scoring='f1_macro')\n",
    "    results[name] = scores.mean()\n",
    "\n",
    "# Show results\n",
    "results_df = pd.DataFrame(results.items(), columns=['Model', 'Mean F1 Score'])\n",
    "results_df.sort_values(by='Mean F1 Score', ascending=False)"
   ]
  },
  {
   "cell_type": "code",
   "execution_count": 14,
   "id": "de821f32",
   "metadata": {},
   "outputs": [
    {
     "name": "stderr",
     "output_type": "stream",
     "text": [
      "/home/pamya/anaconda3/lib/python3.9/site-packages/sklearn/svm/_classes.py:31: FutureWarning: The default value of `dual` will change from `True` to `'auto'` in 1.5. Set the value of `dual` explicitly to suppress the warning.\n",
      "  warnings.warn(\n"
     ]
    },
    {
     "data": {
      "text/html": [
       "<div>\n",
       "<style scoped>\n",
       "    .dataframe tbody tr th:only-of-type {\n",
       "        vertical-align: middle;\n",
       "    }\n",
       "\n",
       "    .dataframe tbody tr th {\n",
       "        vertical-align: top;\n",
       "    }\n",
       "\n",
       "    .dataframe thead th {\n",
       "        text-align: right;\n",
       "    }\n",
       "</style>\n",
       "<table border=\"1\" class=\"dataframe\">\n",
       "  <thead>\n",
       "    <tr style=\"text-align: right;\">\n",
       "      <th></th>\n",
       "      <th>Model</th>\n",
       "      <th>Accuracy</th>\n",
       "      <th>Macro Precision</th>\n",
       "      <th>Macro Recall</th>\n",
       "      <th>Macro F1</th>\n",
       "      <th>Weighted Precision</th>\n",
       "      <th>Weighted Recall</th>\n",
       "      <th>Weighted F1</th>\n",
       "    </tr>\n",
       "  </thead>\n",
       "  <tbody>\n",
       "    <tr>\n",
       "      <th>0</th>\n",
       "      <td>SVM</td>\n",
       "      <td>0.833333</td>\n",
       "      <td>0.779946</td>\n",
       "      <td>0.770711</td>\n",
       "      <td>0.764664</td>\n",
       "      <td>0.801010</td>\n",
       "      <td>0.833333</td>\n",
       "      <td>0.808289</td>\n",
       "    </tr>\n",
       "    <tr>\n",
       "      <th>1</th>\n",
       "      <td>Random Forest</td>\n",
       "      <td>0.583333</td>\n",
       "      <td>0.553462</td>\n",
       "      <td>0.509221</td>\n",
       "      <td>0.504371</td>\n",
       "      <td>0.588090</td>\n",
       "      <td>0.583333</td>\n",
       "      <td>0.561992</td>\n",
       "    </tr>\n",
       "    <tr>\n",
       "      <th>2</th>\n",
       "      <td>Logistic Regression</td>\n",
       "      <td>0.583333</td>\n",
       "      <td>0.401661</td>\n",
       "      <td>0.379176</td>\n",
       "      <td>0.367260</td>\n",
       "      <td>0.522613</td>\n",
       "      <td>0.583333</td>\n",
       "      <td>0.517126</td>\n",
       "    </tr>\n",
       "    <tr>\n",
       "      <th>3</th>\n",
       "      <td>Naive Bayes</td>\n",
       "      <td>0.444444</td>\n",
       "      <td>0.208491</td>\n",
       "      <td>0.199887</td>\n",
       "      <td>0.174817</td>\n",
       "      <td>0.378458</td>\n",
       "      <td>0.444444</td>\n",
       "      <td>0.351432</td>\n",
       "    </tr>\n",
       "  </tbody>\n",
       "</table>\n",
       "</div>"
      ],
      "text/plain": [
       "                 Model  Accuracy  Macro Precision  Macro Recall  Macro F1  \\\n",
       "0                  SVM  0.833333         0.779946      0.770711  0.764664   \n",
       "1        Random Forest  0.583333         0.553462      0.509221  0.504371   \n",
       "2  Logistic Regression  0.583333         0.401661      0.379176  0.367260   \n",
       "3          Naive Bayes  0.444444         0.208491      0.199887  0.174817   \n",
       "\n",
       "   Weighted Precision  Weighted Recall  Weighted F1  \n",
       "0            0.801010         0.833333     0.808289  \n",
       "1            0.588090         0.583333     0.561992  \n",
       "2            0.522613         0.583333     0.517126  \n",
       "3            0.378458         0.444444     0.351432  "
      ]
     },
     "execution_count": 14,
     "metadata": {},
     "output_type": "execute_result"
    }
   ],
   "source": [
    "from sklearn.metrics import accuracy_score, precision_score, recall_score, f1_score\n",
    "from sklearn.svm import LinearSVC\n",
    "from sklearn.ensemble import RandomForestClassifier\n",
    "from sklearn.linear_model import LogisticRegression\n",
    "from sklearn.naive_bayes import MultinomialNB\n",
    "\n",
    "# Define models\n",
    "models = {\n",
    "    \"SVM\": LinearSVC(random_state=42),\n",
    "    \"Random Forest\": RandomForestClassifier(random_state=42),\n",
    "    \"Logistic Regression\": LogisticRegression(max_iter=2000, random_state=42),\n",
    "    \"Naive Bayes\": MultinomialNB()\n",
    "}\n",
    "\n",
    "results = []\n",
    "\n",
    "for name, model in models.items():\n",
    "    model.fit(X_train, y_train)\n",
    "    y_pred = model.predict(X_test)\n",
    "    \n",
    "    acc = accuracy_score(y_test, y_pred)\n",
    "    macro_prec = precision_score(y_test, y_pred, average='macro', zero_division=0)\n",
    "    macro_rec = recall_score(y_test, y_pred, average='macro', zero_division=0)\n",
    "    macro_f1 = f1_score(y_test, y_pred, average='macro', zero_division=0)\n",
    "    \n",
    "    weighted_prec = precision_score(y_test, y_pred, average='weighted', zero_division=0)\n",
    "    weighted_rec = recall_score(y_test, y_pred, average='weighted', zero_division=0)\n",
    "    weighted_f1 = f1_score(y_test, y_pred, average='weighted', zero_division=0)\n",
    "    \n",
    "    results.append({\n",
    "        \"Model\": name,\n",
    "        \"Accuracy\": acc,\n",
    "        \"Macro Precision\": macro_prec,\n",
    "        \"Macro Recall\": macro_rec,\n",
    "        \"Macro F1\": macro_f1,\n",
    "        \"Weighted Precision\": weighted_prec,\n",
    "        \"Weighted Recall\": weighted_rec,\n",
    "        \"Weighted F1\": weighted_f1\n",
    "    })\n",
    "\n",
    "# Convert to DataFrame\n",
    "results_df = pd.DataFrame(results)\n",
    "\n",
    "# Sort by Macro F1 for easy ranking\n",
    "results_df = results_df.sort_values(by=\"Macro F1\", ascending=False).reset_index(drop=True)\n",
    "results_df"
   ]
  },
  {
   "cell_type": "markdown",
   "id": "faaea233",
   "metadata": {},
   "source": [
    "### Experiment 1 — Cross-validation for all models"
   ]
  },
  {
   "cell_type": "code",
   "execution_count": 25,
   "id": "02e1ea6f",
   "metadata": {},
   "outputs": [
    {
     "data": {
      "text/html": [
       "<div>\n",
       "<style scoped>\n",
       "    .dataframe tbody tr th:only-of-type {\n",
       "        vertical-align: middle;\n",
       "    }\n",
       "\n",
       "    .dataframe tbody tr th {\n",
       "        vertical-align: top;\n",
       "    }\n",
       "\n",
       "    .dataframe thead th {\n",
       "        text-align: right;\n",
       "    }\n",
       "</style>\n",
       "<table border=\"1\" class=\"dataframe\">\n",
       "  <thead>\n",
       "    <tr style=\"text-align: right;\">\n",
       "      <th></th>\n",
       "      <th>Model</th>\n",
       "      <th>Accuracy</th>\n",
       "      <th>Macro Precision</th>\n",
       "      <th>Macro Recall</th>\n",
       "      <th>Macro F1</th>\n",
       "      <th>Weighted Precision</th>\n",
       "      <th>Weighted Recall</th>\n",
       "      <th>Weighted F1</th>\n",
       "    </tr>\n",
       "  </thead>\n",
       "  <tbody>\n",
       "    <tr>\n",
       "      <th>0</th>\n",
       "      <td>SVM</td>\n",
       "      <td>0.533451</td>\n",
       "      <td>0.424905</td>\n",
       "      <td>0.328190</td>\n",
       "      <td>0.340187</td>\n",
       "      <td>0.569042</td>\n",
       "      <td>0.533451</td>\n",
       "      <td>0.496738</td>\n",
       "    </tr>\n",
       "    <tr>\n",
       "      <th>1</th>\n",
       "      <td>Random Forest</td>\n",
       "      <td>0.625430</td>\n",
       "      <td>0.515534</td>\n",
       "      <td>0.506270</td>\n",
       "      <td>0.488375</td>\n",
       "      <td>0.582577</td>\n",
       "      <td>0.625430</td>\n",
       "      <td>0.579084</td>\n",
       "    </tr>\n",
       "    <tr>\n",
       "      <th>2</th>\n",
       "      <td>Logistic Regression</td>\n",
       "      <td>0.606064</td>\n",
       "      <td>0.442521</td>\n",
       "      <td>0.392203</td>\n",
       "      <td>0.388556</td>\n",
       "      <td>0.564063</td>\n",
       "      <td>0.606064</td>\n",
       "      <td>0.544261</td>\n",
       "    </tr>\n",
       "    <tr>\n",
       "      <th>3</th>\n",
       "      <td>Naive Bayes</td>\n",
       "      <td>0.474883</td>\n",
       "      <td>0.311627</td>\n",
       "      <td>0.254796</td>\n",
       "      <td>0.243970</td>\n",
       "      <td>0.463130</td>\n",
       "      <td>0.474883</td>\n",
       "      <td>0.400832</td>\n",
       "    </tr>\n",
       "  </tbody>\n",
       "</table>\n",
       "</div>"
      ],
      "text/plain": [
       "                 Model  Accuracy  Macro Precision  Macro Recall  Macro F1  \\\n",
       "0                  SVM  0.533451         0.424905      0.328190  0.340187   \n",
       "1        Random Forest  0.625430         0.515534      0.506270  0.488375   \n",
       "2  Logistic Regression  0.606064         0.442521      0.392203  0.388556   \n",
       "3          Naive Bayes  0.474883         0.311627      0.254796  0.243970   \n",
       "\n",
       "   Weighted Precision  Weighted Recall  Weighted F1  \n",
       "0            0.569042         0.533451     0.496738  \n",
       "1            0.582577         0.625430     0.579084  \n",
       "2            0.564063         0.606064     0.544261  \n",
       "3            0.463130         0.474883     0.400832  "
      ]
     },
     "execution_count": 25,
     "metadata": {},
     "output_type": "execute_result"
    }
   ],
   "source": [
    "from sklearn.model_selection import cross_val_score, StratifiedKFold\n",
    "from sklearn.metrics import precision_score, recall_score, f1_score, accuracy_score\n",
    "from sklearn.base import clone\n",
    "import numpy as np\n",
    "import pandas as pd\n",
    "\n",
    "# Example classifiers (replace with yours)\n",
    "from sklearn.svm import SVC\n",
    "from sklearn.ensemble import RandomForestClassifier\n",
    "from sklearn.linear_model import LogisticRegression\n",
    "from sklearn.naive_bayes import MultinomialNB\n",
    "\n",
    "# Define models\n",
    "models = {\n",
    "    \"SVM\": SVC(probability=True, random_state=42),\n",
    "    \"Random Forest\": RandomForestClassifier(random_state=42),\n",
    "    \"Logistic Regression\": LogisticRegression(max_iter=1000, random_state=42),\n",
    "    \"Naive Bayes\": MultinomialNB()\n",
    "}\n",
    "\n",
    "# Stratified KFold setup\n",
    "cv = StratifiedKFold(n_splits=5, shuffle=True, random_state=42)\n",
    "\n",
    "# Results storage\n",
    "results = []\n",
    "\n",
    "for name, model in models.items():\n",
    "    acc_scores, macro_prec, macro_rec, macro_f1, w_prec, w_rec, w_f1 = [], [], [], [], [], [], []\n",
    "    \n",
    "    for train_idx, val_idx in cv.split(X_tfidf, y):\n",
    "        X_train, X_val = X_tfidf[train_idx], X_tfidf[val_idx]\n",
    "        y_train, y_val = y[train_idx], y[val_idx]\n",
    "        \n",
    "        clf = clone(model)\n",
    "        clf.fit(X_train, y_train)\n",
    "        y_pred = clf.predict(X_val)\n",
    "        \n",
    "        acc_scores.append(accuracy_score(y_val, y_pred))\n",
    "        macro_prec.append(precision_score(y_val, y_pred, average='macro', zero_division=0))\n",
    "        macro_rec.append(recall_score(y_val, y_pred, average='macro', zero_division=0))\n",
    "        macro_f1.append(f1_score(y_val, y_pred, average='macro', zero_division=0))\n",
    "        w_prec.append(precision_score(y_val, y_pred, average='weighted', zero_division=0))\n",
    "        w_rec.append(recall_score(y_val, y_pred, average='weighted', zero_division=0))\n",
    "        w_f1.append(f1_score(y_val, y_pred, average='weighted', zero_division=0))\n",
    "    \n",
    "    results.append([\n",
    "        name,\n",
    "        np.mean(acc_scores),\n",
    "        np.mean(macro_prec),\n",
    "        np.mean(macro_rec),\n",
    "        np.mean(macro_f1),\n",
    "        np.mean(w_prec),\n",
    "        np.mean(w_rec),\n",
    "        np.mean(w_f1)\n",
    "    ])\n",
    "\n",
    "# Display results\n",
    "df_results = pd.DataFrame(results, columns=[\n",
    "    \"Model\", \"Accuracy\", \"Macro Precision\", \"Macro Recall\", \"Macro F1\",\n",
    "    \"Weighted Precision\", \"Weighted Recall\", \"Weighted F1\"\n",
    "])\n",
    "df_results"
   ]
  },
  {
   "cell_type": "markdown",
   "id": "308eb113",
   "metadata": {},
   "source": [
    "### Experiment 2 — Hyperparameter tuning for top models"
   ]
  },
  {
   "cell_type": "code",
   "execution_count": 26,
   "id": "95da1171",
   "metadata": {},
   "outputs": [
    {
     "name": "stderr",
     "output_type": "stream",
     "text": [
      "/home/vasant/projects/Bhartiya-Nyay-Sanhita-LegalVerse/.venv/lib/python3.10/site-packages/sklearn/model_selection/_split.py:811: UserWarning: The least populated class in y has only 4 members, which is less than n_splits=5.\n",
      "  warnings.warn(\n"
     ]
    },
    {
     "name": "stdout",
     "output_type": "stream",
     "text": [
      "Best SVM params: {'C': 10, 'gamma': 'scale', 'kernel': 'linear'}\n",
      "Best SVM score: 0.5150090692237308\n"
     ]
    },
    {
     "name": "stderr",
     "output_type": "stream",
     "text": [
      "/home/vasant/projects/Bhartiya-Nyay-Sanhita-LegalVerse/.venv/lib/python3.10/site-packages/sklearn/model_selection/_split.py:811: UserWarning: The least populated class in y has only 4 members, which is less than n_splits=5.\n",
      "  warnings.warn(\n"
     ]
    },
    {
     "name": "stdout",
     "output_type": "stream",
     "text": [
      "Best RF params: {'max_depth': None, 'min_samples_leaf': 1, 'min_samples_split': 2, 'n_estimators': 200}\n",
      "Best RF score: 0.44710391363022933\n"
     ]
    }
   ],
   "source": [
    "from sklearn.model_selection import GridSearchCV\n",
    "\n",
    "# 1. SVM tuning\n",
    "svm_params = {\n",
    "    'kernel': ['linear', 'rbf'],\n",
    "    'C': [0.1, 1, 10],\n",
    "    'gamma': ['scale', 'auto']\n",
    "}\n",
    "svm_grid = GridSearchCV(SVC(probability=True, random_state=42), svm_params, cv=5, scoring='f1_macro')\n",
    "svm_grid.fit(X_train, y_train)\n",
    "print(\"Best SVM params:\", svm_grid.best_params_)\n",
    "print(\"Best SVM score:\", svm_grid.best_score_)\n",
    "\n",
    "# 2. Random Forest tuning\n",
    "rf_params = {\n",
    "    'n_estimators': [100, 200],\n",
    "    'max_depth': [None, 10, 20],\n",
    "    'min_samples_split': [2, 5],\n",
    "    'min_samples_leaf': [1, 2]\n",
    "}\n",
    "rf_grid = GridSearchCV(RandomForestClassifier(random_state=42), rf_params, cv=5, scoring='f1_macro')\n",
    "rf_grid.fit(X_train, y_train)\n",
    "print(\"Best RF params:\", rf_grid.best_params_)\n",
    "print(\"Best RF score:\", rf_grid.best_score_)"
   ]
  },
  {
   "cell_type": "markdown",
   "id": "34d2c4b2",
   "metadata": {},
   "source": [
    "### Experiment 3 — Ensemble Voting Classifier"
   ]
  },
  {
   "cell_type": "code",
   "execution_count": 27,
   "id": "85aea597",
   "metadata": {},
   "outputs": [],
   "source": [
    "from sklearn.ensemble import VotingClassifier\n",
    "\n",
    "# Use best models from tuning\n",
    "best_svm = svm_grid.best_estimator_\n",
    "best_rf = rf_grid.best_estimator_\n",
    "\n",
    "# Add Logistic Regression as tiebreaker\n",
    "log_reg = LogisticRegression(max_iter=1000, random_state=42)\n",
    "\n",
    "voting_clf = VotingClassifier(\n",
    "    estimators=[\n",
    "        ('svm', best_svm),\n",
    "        ('rf', best_rf),\n",
    "        ('lr', log_reg)\n",
    "    ],\n",
    "    voting='soft'\n",
    ")\n",
    "\n",
    "voting_clf.fit(X_train, y_train)\n",
    "y_pred = voting_clf.predict(X_test)"
   ]
  },
  {
   "cell_type": "code",
   "execution_count": 28,
   "id": "485a51a8",
   "metadata": {},
   "outputs": [
    {
     "name": "stdout",
     "output_type": "stream",
     "text": [
      "Accuracy: 0.9444444444444444\n",
      "Macro F1: 0.9361250348092454\n",
      "Classification Report:\n",
      "                                  precision    recall  f1-score   support\n",
      "\n",
      "     Abetment_Conspiracy_Attempt       0.80      1.00      0.89         4\n",
      "         Contempt_PublicServants       1.00      1.00      1.00         4\n",
      " CriminalIntimidation_Defamation       1.00      1.00      1.00         1\n",
      "     FalseEvidence_PublicJustice       0.90      1.00      0.95         9\n",
      "              General_Exceptions       1.00      1.00      1.00         4\n",
      "            Offences_ArmedForces       1.00      1.00      1.00         2\n",
      "               Offences_Currency       1.00      0.50      0.67         2\n",
      "Offences_Documents_PropertyMarks       1.00      0.50      0.67         2\n",
      "              Offences_Elections       1.00      1.00      1.00         2\n",
      "              Offences_HumanBody       1.00      0.90      0.95        10\n",
      "               Offences_Property       1.00      1.00      1.00         6\n",
      "     Offences_PublicHealthSafety       1.00      1.00      1.00         6\n",
      "         Offences_PublicServants       1.00      1.00      1.00         2\n",
      "     Offences_PublicTranquillity       1.00      1.00      1.00         2\n",
      "               Offences_Religion       1.00      1.00      1.00         1\n",
      "                  Offences_State       1.00      1.00      1.00         2\n",
      "             Offences_WomenChild       0.78      1.00      0.88         7\n",
      "                           Other       1.00      1.00      1.00         1\n",
      "                  Property_Marks       1.00      1.00      1.00         1\n",
      "                     Punishments       1.00      0.50      0.67         2\n",
      "            Right_PrivateDefence       1.00      1.00      1.00         2\n",
      "\n",
      "                        accuracy                           0.94        72\n",
      "                       macro avg       0.98      0.92      0.94        72\n",
      "                    weighted avg       0.95      0.94      0.94        72\n",
      "\n"
     ]
    }
   ],
   "source": [
    "# Metrics\n",
    "print(\"Accuracy:\", accuracy_score(y_test, y_pred))\n",
    "print(\"Macro F1:\", f1_score(y_test, y_pred, average='macro'))\n",
    "print(\"Classification Report:\")\n",
    "\n",
    "print(classification_report(y_test, y_pred, target_names=le.classes_, zero_division=0))"
   ]
  },
  {
   "cell_type": "markdown",
   "id": "c3ff9c6e",
   "metadata": {},
   "source": [
    "## Model Auditing for data leakage"
   ]
  },
  {
   "cell_type": "markdown",
   "id": "134f8db0",
   "metadata": {},
   "source": [
    "### Where leakage / overfitting commonly comes from (specific to your pipeline)"
   ]
  },
  {
   "cell_type": "markdown",
   "id": "99251bc7",
   "metadata": {},
   "source": [
    "- Vectorizer/feature fit on full dataset before split (TF-IDF or embeddings fit on all data → information from test leaks into train).\n",
    "\n",
    "- Using X transformed outside the CV or split (e.g., building X_tfidf = tfidf.fit_transform(X) once, then splitting).\n",
    "\n",
    "- Re-fitting tuned models on the entire dataset and then testing on a subset of that same dataset (instead of training only on train split).\n",
    "\n",
    "- Not using Pipelines: separate transform + fit steps can accidentally fit transformers on test.\n",
    "\n",
    "- Duplicates / near-duplicates in train and test (same exact section text or copied text across splits).\n",
    "\n",
    "- Label leakage in text: descriptions containing the exact chapter name or section tag that trivially gives away the label.\n",
    "\n",
    "- Improper cross-validation: using non-stratified CV with tiny classes or leaking parameters across folds.\n",
    "\n",
    "- Using model probabilities from CV as features (stacking incorrectly) without out-of-fold predictions."
   ]
  },
  {
   "cell_type": "markdown",
   "id": "fa70faf1",
   "metadata": {},
   "source": [
    "### Quick diagnostic checks"
   ]
  },
  {
   "cell_type": "code",
   "execution_count": 23,
   "id": "a43bfb7e",
   "metadata": {},
   "outputs": [],
   "source": [
    "from sklearn.model_selection import train_test_split\n",
    "X = df['Description']  # raw text column\n",
    "y = df['Chapter_grouped']"
   ]
  },
  {
   "cell_type": "code",
   "execution_count": 24,
   "id": "4f6f9c1f",
   "metadata": {},
   "outputs": [
    {
     "name": "stdout",
     "output_type": "stream",
     "text": [
      "Exact overlap between train and test: 0\n"
     ]
    }
   ],
   "source": [
    "X_train, X_test, y_train, y_test = train_test_split(\n",
    "    X, y, test_size=0.2, stratify=y, random_state=42\n",
    ")\n",
    "\n",
    "# Now these are Pandas Series of raw text — we can safely run:\n",
    "train_texts = set(X_train.astype(str))\n",
    "test_texts  = set(X_test.astype(str))\n",
    "\n",
    "overlap = train_texts.intersection(test_texts)\n",
    "print(\"Exact overlap between train and test:\", len(overlap))\n",
    "if overlap:\n",
    "    print(\"Example overlapping text:\", list(overlap)[:1])"
   ]
  },
  {
   "cell_type": "code",
   "execution_count": 25,
   "id": "1cecb6bb",
   "metadata": {},
   "outputs": [
    {
     "name": "stdout",
     "output_type": "stream",
     "text": [
      "Hash-overlap (possible near-duplicates): 1\n",
      "Rows where chapter/section name appears inside Description: 29\n"
     ]
    }
   ],
   "source": [
    "from collections import Counter\n",
    "\n",
    "# 3) Near-duplicate / very similar texts (quick hashing + length check)\n",
    "def quick_hash(s):\n",
    "    return hash(s.strip().lower()[:200])  # first 200 chars hash\n",
    "train_hashes = Counter(quick_hash(t) for t in X_train)\n",
    "test_hashes  = Counter(quick_hash(t) for t in X_test)\n",
    "hash_overlap = sum((train_hashes & test_hashes).values())\n",
    "print(\"Hash-overlap (possible near-duplicates):\", hash_overlap)\n",
    "\n",
    "# 4) Check if chapter name or section name appears verbatim in Description (label leakage)\n",
    "def label_in_text(row):\n",
    "    return (str(row['Chapter_name']).lower() in str(row['Description']).lower()) \\\n",
    "           or (str(row['Section_name']).lower() in str(row['Description']).lower())\n",
    "\n",
    "df['label_in_text'] = df.apply(label_in_text, axis=1)\n",
    "print(\"Rows where chapter/section name appears inside Description:\", df['label_in_text'].sum())\n"
   ]
  },
  {
   "cell_type": "markdown",
   "id": "62ceb331",
   "metadata": {},
   "source": [
    "### Safe re-run pipeline — no leakage, with stratified CV, pipelines, and ensemble"
   ]
  },
  {
   "cell_type": "markdown",
   "id": "61ef4f01",
   "metadata": {},
   "source": [
    "This code ensures every transformer is fitted only within CV folds or on the train split, and that tuned estimators are not trained on the test set.\n",
    "\n",
    "Notes:\n",
    " - We use Pipeline so TF-IDF is fit only on training folds.\n",
    " - We do GridSearchCV with cv=StratifiedKFold to tune hyperparams safely.\n",
    " - We then build a VotingClassifier using the best estimators from GridSearch but fitted only on training data. The final evaluation is on the held-out test set created after all CV tuning (or you can report CV results instead of single test)."
   ]
  },
  {
   "cell_type": "code",
   "execution_count": 17,
   "id": "3ae14939",
   "metadata": {},
   "outputs": [],
   "source": [
    "# SAFE PIPELINE + TUNING + ENSEMBLE (no leakage)\n",
    "import numpy as np\n",
    "import pandas as pd\n",
    "\n",
    "from sklearn.model_selection import train_test_split, StratifiedKFold, GridSearchCV\n",
    "from sklearn.feature_extraction.text import TfidfVectorizer\n",
    "from sklearn.pipeline import Pipeline\n",
    "from sklearn.svm import SVC\n",
    "from sklearn.ensemble import RandomForestClassifier, VotingClassifier\n",
    "from sklearn.linear_model import LogisticRegression\n",
    "from sklearn.metrics import classification_report, accuracy_score, f1_score, precision_score, recall_score\n",
    "\n",
    "# 1) split raw data first (ensure stratify)\n",
    "X = df['Description'].values\n",
    "y = df['Chapter_grouped'].values  # or Chapter_grouped"
   ]
  },
  {
   "cell_type": "code",
   "execution_count": 18,
   "id": "a9f237ae",
   "metadata": {},
   "outputs": [],
   "source": [
    "X_train, X_test, y_train, y_test = train_test_split(\n",
    "    X, y, test_size=0.2, random_state=42, stratify=y\n",
    ")"
   ]
  },
  {
   "cell_type": "code",
   "execution_count": 19,
   "id": "574c7a85",
   "metadata": {},
   "outputs": [
    {
     "name": "stdout",
     "output_type": "stream",
     "text": [
      "Fitting 5 folds for each of 3 candidates, totalling 15 fits\n"
     ]
    },
    {
     "name": "stderr",
     "output_type": "stream",
     "text": [
      "/home/vasant/projects/Bhartiya-Nyay-Sanhita-LegalVerse/.venv/lib/python3.10/site-packages/sklearn/model_selection/_split.py:811: UserWarning: The least populated class in y has only 4 members, which is less than n_splits=5.\n",
      "  warnings.warn(\n"
     ]
    },
    {
     "name": "stdout",
     "output_type": "stream",
     "text": [
      "Fitting 5 folds for each of 8 candidates, totalling 40 fits\n"
     ]
    },
    {
     "name": "stderr",
     "output_type": "stream",
     "text": [
      "/home/vasant/projects/Bhartiya-Nyay-Sanhita-LegalVerse/.venv/lib/python3.10/site-packages/sklearn/model_selection/_split.py:811: UserWarning: The least populated class in y has only 4 members, which is less than n_splits=5.\n",
      "  warnings.warn(\n"
     ]
    },
    {
     "name": "stdout",
     "output_type": "stream",
     "text": [
      "Best SVM params: {'svm__C': 5, 'svm__kernel': 'linear'} Best score: 0.5999159888385895\n",
      "Best RF params: {'rf__max_depth': None, 'rf__min_samples_split': 2, 'rf__n_estimators': 100} Best score: 0.5035107143090336\n",
      "Final Test Accuracy: 0.7361111111111112\n",
      "Final Test Macro F1: 0.6235280017888714\n",
      "Classification Report:\n",
      "                                   precision    recall  f1-score   support\n",
      "\n",
      "     Abetment_Conspiracy_Attempt       0.75      0.75      0.75         4\n",
      "         Contempt_PublicServants       0.75      0.75      0.75         4\n",
      " CriminalIntimidation_Defamation       0.00      0.00      0.00         1\n",
      "     FalseEvidence_PublicJustice       0.50      0.78      0.61         9\n",
      "              General_Exceptions       0.80      1.00      0.89         4\n",
      "            Offences_ArmedForces       0.00      0.00      0.00         2\n",
      "               Offences_Currency       1.00      0.50      0.67         2\n",
      "Offences_Documents_PropertyMarks       1.00      1.00      1.00         2\n",
      "              Offences_Elections       1.00      0.50      0.67         2\n",
      "              Offences_HumanBody       0.67      0.80      0.73        10\n",
      "               Offences_Property       0.71      0.83      0.77         6\n",
      "     Offences_PublicHealthSafety       0.83      0.83      0.83         6\n",
      "         Offences_PublicServants       0.00      0.00      0.00         2\n",
      "     Offences_PublicTranquillity       0.00      0.00      0.00         2\n",
      "               Offences_Religion       1.00      1.00      1.00         1\n",
      "                  Offences_State       1.00      1.00      1.00         2\n",
      "             Offences_WomenChild       0.88      1.00      0.93         7\n",
      "                           Other       0.00      0.00      0.00         1\n",
      "                  Property_Marks       1.00      1.00      1.00         1\n",
      "                     Punishments       0.50      0.50      0.50         2\n",
      "            Right_PrivateDefence       1.00      1.00      1.00         2\n",
      "\n",
      "                        accuracy                           0.74        72\n",
      "                       macro avg       0.64      0.63      0.62        72\n",
      "                    weighted avg       0.68      0.74      0.70        72\n",
      "\n"
     ]
    }
   ],
   "source": [
    "# 2) define pipelines (TF-IDF inside pipeline)\n",
    "pipe_svm = Pipeline([\n",
    "    ('tfidf', TfidfVectorizer(ngram_range=(1,2), max_features=10000)),\n",
    "    ('svm', SVC(probability=True, random_state=42))\n",
    "])\n",
    "\n",
    "pipe_rf = Pipeline([\n",
    "    ('tfidf', TfidfVectorizer(ngram_range=(1,2), max_features=10000)),\n",
    "    ('rf', RandomForestClassifier(random_state=42))\n",
    "])\n",
    "\n",
    "pipe_lr = Pipeline([\n",
    "    ('tfidf', TfidfVectorizer(ngram_range=(1,2), max_features=10000)),\n",
    "    ('lr', LogisticRegression(max_iter=2000, random_state=42))\n",
    "])\n",
    "\n",
    "# 3) Grid search (tune SVM and RF)\n",
    "cv = StratifiedKFold(n_splits=5, shuffle=True, random_state=42)\n",
    "\n",
    "svm_param_grid = {\n",
    "    'svm__kernel': ['linear'],   # linear performed best earlier\n",
    "    'svm__C': [1, 5, 10]\n",
    "}\n",
    "rf_param_grid = {\n",
    "    'rf__n_estimators': [100, 200],\n",
    "    'rf__max_depth': [None, 20],\n",
    "    'rf__min_samples_split': [2, 5]\n",
    "}\n",
    "\n",
    "svm_gs = GridSearchCV(pipe_svm, svm_param_grid, cv=cv, scoring='f1_macro', n_jobs=-1, verbose=1)\n",
    "rf_gs  = GridSearchCV(pipe_rf, rf_param_grid, cv=cv, scoring='f1_macro', n_jobs=-1, verbose=1)\n",
    "\n",
    "svm_gs.fit(X_train, y_train)\n",
    "rf_gs.fit(X_train, y_train)\n",
    "\n",
    "print(\"Best SVM params:\", svm_gs.best_params_, \"Best score:\", svm_gs.best_score_)\n",
    "print(\"Best RF params:\", rf_gs.best_params_, \"Best score:\", rf_gs.best_score_)\n",
    "\n",
    "# 4) Build VotingClassifier using pipelines' best estimators (these are fitted on X_train already)\n",
    "best_svm_pipe = svm_gs.best_estimator_\n",
    "best_rf_pipe  = rf_gs.best_estimator_\n",
    "best_lr_pipe  = pipe_lr  # we can fit LR on X_train or also grid-search; for speed we fit default\n",
    "\n",
    "best_lr_pipe.fit(X_train, y_train)\n",
    "\n",
    "voting = VotingClassifier(\n",
    "    estimators=[('svm', best_svm_pipe), ('rf', best_rf_pipe), ('lr', best_lr_pipe)],\n",
    "    voting='soft',  # requires probability support\n",
    "    n_jobs=-1\n",
    ")\n",
    "\n",
    "# Fit voting on TRAIN set only\n",
    "voting.fit(X_train, y_train)\n",
    "\n",
    "# Evaluate on TEST set (never seen during any fit/GS)\n",
    "y_pred = voting.predict(X_test)\n",
    "\n",
    "print(\"Final Test Accuracy:\", accuracy_score(y_test, y_pred))\n",
    "print(\"Final Test Macro F1:\", f1_score(y_test, y_pred, average='macro'))\n",
    "print(\"Classification Report:\\n\", classification_report(y_test, y_pred, zero_division=0))"
   ]
  },
  {
   "cell_type": "code",
   "execution_count": 8,
   "id": "accc6e11",
   "metadata": {},
   "outputs": [
    {
     "name": "stdout",
     "output_type": "stream",
     "text": [
      "Accuracy: 0.7083333333333334\n",
      "                                  precision    recall  f1-score   support\n",
      "\n",
      "     Abetment_Conspiracy_Attempt       0.75      0.75      0.75         4\n",
      "         Contempt_PublicServants       0.40      0.50      0.44         4\n",
      " CriminalIntimidation_Defamation       0.00      0.00      0.00         1\n",
      "     FalseEvidence_PublicJustice       0.54      0.78      0.64         9\n",
      "              General_Exceptions       1.00      1.00      1.00         4\n",
      "            Offences_ArmedForces       1.00      0.50      0.67         2\n",
      "               Offences_Currency       1.00      1.00      1.00         2\n",
      "Offences_Documents_PropertyMarks       1.00      1.00      1.00         2\n",
      "              Offences_Elections       1.00      0.50      0.67         2\n",
      "              Offences_HumanBody       0.53      0.80      0.64        10\n",
      "               Offences_Property       0.71      0.83      0.77         6\n",
      "     Offences_PublicHealthSafety       0.83      0.83      0.83         6\n",
      "         Offences_PublicServants       0.00      0.00      0.00         2\n",
      "     Offences_PublicTranquillity       0.00      0.00      0.00         2\n",
      "               Offences_Religion       1.00      1.00      1.00         1\n",
      "                  Offences_State       1.00      0.50      0.67         2\n",
      "             Offences_WomenChild       0.86      0.86      0.86         7\n",
      "                           Other       0.00      0.00      0.00         1\n",
      "                  Property_Marks       1.00      1.00      1.00         1\n",
      "                     Punishments       0.00      0.00      0.00         2\n",
      "            Right_PrivateDefence       1.00      1.00      1.00         2\n",
      "\n",
      "                        accuracy                           0.71        72\n",
      "                       macro avg       0.65      0.61      0.62        72\n",
      "                    weighted avg       0.67      0.71      0.67        72\n",
      "\n"
     ]
    },
    {
     "name": "stderr",
     "output_type": "stream",
     "text": [
      "/home/vasant/projects/Bhartiya-Nyay-Sanhita-LegalVerse/.venv/lib/python3.10/site-packages/sklearn/metrics/_classification.py:1731: UndefinedMetricWarning: Precision is ill-defined and being set to 0.0 in labels with no predicted samples. Use `zero_division` parameter to control this behavior.\n",
      "  _warn_prf(average, modifier, f\"{metric.capitalize()} is\", result.shape[0])\n",
      "/home/vasant/projects/Bhartiya-Nyay-Sanhita-LegalVerse/.venv/lib/python3.10/site-packages/sklearn/metrics/_classification.py:1731: UndefinedMetricWarning: Precision is ill-defined and being set to 0.0 in labels with no predicted samples. Use `zero_division` parameter to control this behavior.\n",
      "  _warn_prf(average, modifier, f\"{metric.capitalize()} is\", result.shape[0])\n",
      "/home/vasant/projects/Bhartiya-Nyay-Sanhita-LegalVerse/.venv/lib/python3.10/site-packages/sklearn/metrics/_classification.py:1731: UndefinedMetricWarning: Precision is ill-defined and being set to 0.0 in labels with no predicted samples. Use `zero_division` parameter to control this behavior.\n",
      "  _warn_prf(average, modifier, f\"{metric.capitalize()} is\", result.shape[0])\n"
     ]
    }
   ],
   "source": [
    "from sklearn.ensemble import VotingClassifier\n",
    "from sklearn.linear_model import LogisticRegression\n",
    "from sklearn.svm import SVC\n",
    "from sklearn.ensemble import RandomForestClassifier\n",
    "from sklearn.pipeline import Pipeline\n",
    "from sklearn.preprocessing import LabelEncoder\n",
    "from sentence_transformers import SentenceTransformer\n",
    "import numpy as np\n",
    "\n",
    "# Encode labels\n",
    "le = LabelEncoder()\n",
    "y_encoded = le.fit_transform(df['Chapter_grouped'])\n",
    "\n",
    "# Load BERT model\n",
    "bert_model = SentenceTransformer('all-MiniLM-L6-v2')  # Smaller, faster BERT\n",
    "\n",
    "# Create embeddings\n",
    "# X_embeddings = bert_model.encode(X, show_progress_bar=True)\n",
    "\n",
    "# Define models\n",
    "svm_clf = SVC(C=10, kernel='linear', probability=True, random_state=42)\n",
    "lr_clf = LogisticRegression(max_iter=1000, random_state=42)\n",
    "rf_clf = RandomForestClassifier(n_estimators=200, random_state=42)\n",
    "\n",
    "# Ensemble\n",
    "ensemble = VotingClassifier(\n",
    "    estimators=[\n",
    "        ('svm', svm_clf),\n",
    "        ('lr', lr_clf),\n",
    "        ('rf', rf_clf)\n",
    "    ],\n",
    "    voting='soft'\n",
    ")\n",
    "\n",
    "# Train-test split\n",
    "from sklearn.model_selection import train_test_split\n",
    "X_train, X_test, y_train, y_test = train_test_split(\n",
    "    X_embed, y_encoded, test_size=0.2, stratify=y_encoded, random_state=42\n",
    ")\n",
    "\n",
    "# Train\n",
    "ensemble.fit(X_train, y_train)\n",
    "\n",
    "# Evaluate\n",
    "from sklearn.metrics import classification_report, accuracy_score\n",
    "y_pred = ensemble.predict(X_test)\n",
    "print(\"Accuracy:\", accuracy_score(y_test, y_pred))\n",
    "print(classification_report(y_test, y_pred, target_names=le.classes_))"
   ]
  },
  {
   "cell_type": "markdown",
   "id": "4ca6074b",
   "metadata": {},
   "source": [
    "## Final model inference"
   ]
  },
  {
   "cell_type": "code",
   "execution_count": 1,
   "id": "b24950d3",
   "metadata": {},
   "outputs": [
    {
     "name": "stderr",
     "output_type": "stream",
     "text": [
      "/home/vasant/projects/Bhartiya-Nyay-Sanhita-LegalVerse/.venv/lib/python3.10/site-packages/tqdm/auto.py:21: TqdmWarning: IProgress not found. Please update jupyter and ipywidgets. See https://ipywidgets.readthedocs.io/en/stable/user_install.html\n",
      "  from .autonotebook import tqdm as notebook_tqdm\n"
     ]
    },
    {
     "data": {
      "text/html": [
       "<div>\n",
       "<style scoped>\n",
       "    .dataframe tbody tr th:only-of-type {\n",
       "        vertical-align: middle;\n",
       "    }\n",
       "\n",
       "    .dataframe tbody tr th {\n",
       "        vertical-align: top;\n",
       "    }\n",
       "\n",
       "    .dataframe thead th {\n",
       "        text-align: right;\n",
       "    }\n",
       "</style>\n",
       "<table border=\"1\" class=\"dataframe\">\n",
       "  <thead>\n",
       "    <tr style=\"text-align: right;\">\n",
       "      <th></th>\n",
       "      <th>Chapter</th>\n",
       "      <th>Chapter_name</th>\n",
       "      <th>Chapter_subtype</th>\n",
       "      <th>Section</th>\n",
       "      <th>Section_name</th>\n",
       "      <th>Description</th>\n",
       "      <th>Chapter_short</th>\n",
       "      <th>desc_len_chars</th>\n",
       "      <th>desc_len_words</th>\n",
       "      <th>has_crossref</th>\n",
       "      <th>Chapter_grouped</th>\n",
       "    </tr>\n",
       "  </thead>\n",
       "  <tbody>\n",
       "    <tr>\n",
       "      <th>46</th>\n",
       "      <td>4</td>\n",
       "      <td>OF ABETMENT, CRIMINAL CONSPIRACY AND ATTEMPT</td>\n",
       "      <td>of abetment</td>\n",
       "      <td>47</td>\n",
       "      <td>Abetment in India of offences outside India.</td>\n",
       "      <td>A person abets an offence within the meaning o...</td>\n",
       "      <td>Abetment_Conspiracy_Attempt</td>\n",
       "      <td>328</td>\n",
       "      <td>57</td>\n",
       "      <td>False</td>\n",
       "      <td>Abetment_Conspiracy_Attempt</td>\n",
       "    </tr>\n",
       "    <tr>\n",
       "      <th>265</th>\n",
       "      <td>14</td>\n",
       "      <td>OF FALSE EVIDENCE AND OFFENCES AGAINST PUBLIC ...</td>\n",
       "      <td>OF FALSE EVIDENCE AND OFFENCES AGAINST PUBLIC ...</td>\n",
       "      <td>266</td>\n",
       "      <td>Violation of condition of remission of punishm...</td>\n",
       "      <td>Whoever, having accepted any conditional remis...</td>\n",
       "      <td>FalseEvidence_PublicJustice</td>\n",
       "      <td>387</td>\n",
       "      <td>63</td>\n",
       "      <td>False</td>\n",
       "      <td>FalseEvidence_PublicJustice</td>\n",
       "    </tr>\n",
       "    <tr>\n",
       "      <th>249</th>\n",
       "      <td>14</td>\n",
       "      <td>OF FALSE EVIDENCE AND OFFENCES AGAINST PUBLIC ...</td>\n",
       "      <td>OF FALSE EVIDENCE AND OFFENCES AGAINST PUBLIC ...</td>\n",
       "      <td>250</td>\n",
       "      <td>Taking gift, etc., to screen an offender from ...</td>\n",
       "      <td>Whoever accepts or attempts to obtain, or agre...</td>\n",
       "      <td>FalseEvidence_PublicJustice</td>\n",
       "      <td>1104</td>\n",
       "      <td>188</td>\n",
       "      <td>False</td>\n",
       "      <td>FalseEvidence_PublicJustice</td>\n",
       "    </tr>\n",
       "  </tbody>\n",
       "</table>\n",
       "</div>"
      ],
      "text/plain": [
       "     Chapter                                       Chapter_name  \\\n",
       "46         4       OF ABETMENT, CRIMINAL CONSPIRACY AND ATTEMPT   \n",
       "265       14  OF FALSE EVIDENCE AND OFFENCES AGAINST PUBLIC ...   \n",
       "249       14  OF FALSE EVIDENCE AND OFFENCES AGAINST PUBLIC ...   \n",
       "\n",
       "                                       Chapter_subtype  Section  \\\n",
       "46                                         of abetment       47   \n",
       "265  OF FALSE EVIDENCE AND OFFENCES AGAINST PUBLIC ...      266   \n",
       "249  OF FALSE EVIDENCE AND OFFENCES AGAINST PUBLIC ...      250   \n",
       "\n",
       "                                          Section_name  \\\n",
       "46        Abetment in India of offences outside India.   \n",
       "265  Violation of condition of remission of punishm...   \n",
       "249  Taking gift, etc., to screen an offender from ...   \n",
       "\n",
       "                                           Description  \\\n",
       "46   A person abets an offence within the meaning o...   \n",
       "265  Whoever, having accepted any conditional remis...   \n",
       "249  Whoever accepts or attempts to obtain, or agre...   \n",
       "\n",
       "                   Chapter_short  desc_len_chars  desc_len_words  \\\n",
       "46   Abetment_Conspiracy_Attempt             328              57   \n",
       "265  FalseEvidence_PublicJustice             387              63   \n",
       "249  FalseEvidence_PublicJustice            1104             188   \n",
       "\n",
       "     has_crossref              Chapter_grouped  \n",
       "46          False  Abetment_Conspiracy_Attempt  \n",
       "265         False  FalseEvidence_PublicJustice  \n",
       "249         False  FalseEvidence_PublicJustice  "
      ]
     },
     "execution_count": 1,
     "metadata": {},
     "output_type": "execute_result"
    }
   ],
   "source": [
    "from sklearn.feature_extraction.text import TfidfVectorizer\n",
    "from sklearn.linear_model import LogisticRegression\n",
    "from sklearn.svm import SVC\n",
    "from sklearn.ensemble import RandomForestClassifier, VotingClassifier\n",
    "from sklearn.pipeline import Pipeline\n",
    "from sklearn.preprocessing import LabelEncoder\n",
    "from sklearn.metrics import accuracy_score, precision_recall_fscore_support, classification_report\n",
    "from sklearn.model_selection import train_test_split\n",
    "from sentence_transformers import SentenceTransformer\n",
    "import pandas as pd\n",
    "import numpy as np\n",
    "\n",
    "\n",
    "df = pd.read_csv('bns_processed.csv')\n",
    "df.sample(3)"
   ]
  },
  {
   "cell_type": "code",
   "execution_count": 2,
   "id": "ef38cc4f",
   "metadata": {},
   "outputs": [
    {
     "name": "stderr",
     "output_type": "stream",
     "text": [
      "[nltk_data] Downloading package stopwords to /home/vasant/nltk_data...\n",
      "[nltk_data]   Package stopwords is already up-to-date!\n",
      "[nltk_data] Downloading package wordnet to /home/vasant/nltk_data...\n",
      "[nltk_data]   Package wordnet is already up-to-date!\n",
      "[nltk_data] Downloading package omw-1.4 to /home/vasant/nltk_data...\n",
      "[nltk_data]   Package omw-1.4 is already up-to-date!\n"
     ]
    }
   ],
   "source": [
    "import re\n",
    "import string\n",
    "import nltk\n",
    "from nltk.corpus import stopwords\n",
    "from nltk.stem import WordNetLemmatizer\n",
    "\n",
    "nltk.download('stopwords')\n",
    "nltk.download('wordnet')\n",
    "nltk.download('omw-1.4')\n",
    "\n",
    "stop_words = set(stopwords.words('english'))\n",
    "lemmatizer = WordNetLemmatizer()\n",
    "\n",
    "def clean_text(text):\n",
    "    text = text.lower()  # lowercase\n",
    "    text = re.sub(r'section\\s*\\d+[a-zA-Z()]*', '', text)  # remove 'section xx'\n",
    "    text = re.sub(r'\\d+', '', text)  # remove digits\n",
    "    text = text.translate(str.maketrans('', '', string.punctuation))  # remove punctuation\n",
    "    tokens = text.split()\n",
    "    tokens = [lemmatizer.lemmatize(word) for word in tokens if word not in stop_words]\n",
    "    return ' '.join(tokens)"
   ]
  },
  {
   "cell_type": "code",
   "execution_count": 3,
   "id": "657a37b2",
   "metadata": {},
   "outputs": [],
   "source": [
    "df['raw_text'] = df['Description']\n",
    "df['clean_text'] = df['Description'].astype(str).apply(clean_text)"
   ]
  },
  {
   "cell_type": "code",
   "execution_count": 15,
   "id": "b6a3e050",
   "metadata": {},
   "outputs": [],
   "source": [
    "X = df['clean_text'].values\n",
    "y = df['Chapter_grouped']\n",
    "\n",
    "# Encode labels\n",
    "le = LabelEncoder()\n",
    "y_encoded = le.fit_transform(y)\n",
    "\n",
    "# Train-test split (common for both)\n",
    "X_train_text, X_test_text, y_train, y_test = train_test_split(\n",
    "    X, y_encoded, test_size=0.2, stratify=y_encoded, random_state=42\n",
    ")"
   ]
  },
  {
   "cell_type": "code",
   "execution_count": 16,
   "id": "0d0649fa",
   "metadata": {},
   "outputs": [],
   "source": [
    "# Define models\n",
    "svm_clf = SVC(C=10, kernel='linear', probability=True, random_state=42)\n",
    "lr_clf = LogisticRegression(max_iter=1000, random_state=42)\n",
    "rf_clf = RandomForestClassifier(n_estimators=200, random_state=42)"
   ]
  },
  {
   "cell_type": "code",
   "execution_count": 17,
   "id": "e2449614",
   "metadata": {},
   "outputs": [],
   "source": [
    "# ---------------------------\n",
    "# PIPELINE A - TF-IDF\n",
    "# ---------------------------\n",
    "tfidf_vectorizer = TfidfVectorizer(max_features=5000)\n",
    "X_train_tfidf = tfidf_vectorizer.fit_transform(X_train_text)\n",
    "X_test_tfidf = tfidf_vectorizer.transform(X_test_text)\n",
    "\n",
    "ensemble_tfidf = VotingClassifier(\n",
    "    estimators=[('svm', svm_clf), ('lr', lr_clf), ('rf', rf_clf)],\n",
    "    voting='soft'\n",
    ")\n",
    "ensemble_tfidf.fit(X_train_tfidf, y_train)\n",
    "y_pred_tfidf = ensemble_tfidf.predict(X_test_tfidf)"
   ]
  },
  {
   "cell_type": "code",
   "execution_count": 18,
   "id": "1294b29f",
   "metadata": {},
   "outputs": [
    {
     "name": "stderr",
     "output_type": "stream",
     "text": [
      "Batches: 100%|████████████████████████████████████████████████████████████████████████████| 9/9 [00:04<00:00,  2.04it/s]\n",
      "Batches: 100%|████████████████████████████████████████████████████████████████████████████| 3/3 [00:01<00:00,  1.88it/s]\n"
     ]
    }
   ],
   "source": [
    "# ---------------------------\n",
    "# PIPELINE B - BERT\n",
    "# ---------------------------\n",
    "bert_model = SentenceTransformer('all-MiniLM-L6-v2')\n",
    "X_train_bert = bert_model.encode(X_train_text, show_progress_bar=True)\n",
    "X_test_bert = bert_model.encode(X_test_text, show_progress_bar=True)\n",
    "\n",
    "ensemble_bert = VotingClassifier(\n",
    "    estimators=[('svm', svm_clf), ('lr', lr_clf), ('rf', rf_clf)],\n",
    "    voting='soft'\n",
    ")\n",
    "ensemble_bert.fit(X_train_bert, y_train)\n",
    "y_pred_bert = ensemble_bert.predict(X_test_bert)"
   ]
  },
  {
   "cell_type": "code",
   "execution_count": 16,
   "id": "515bf0da",
   "metadata": {},
   "outputs": [],
   "source": [
    "# ---------------------------\n",
    "# METRICS COMPARISON\n",
    "# ---------------------------\n",
    "def get_metrics(y_true, y_pred):\n",
    "    acc = accuracy_score(y_true, y_pred)\n",
    "    macro_p, macro_r, macro_f, _ = precision_recall_fscore_support(y_true, y_pred, average='macro', zero_division=0)\n",
    "    weighted_p, weighted_r, weighted_f, _ = precision_recall_fscore_support(y_true, y_pred, average='weighted', zero_division=0)\n",
    "    return [acc, macro_p, macro_r, macro_f, weighted_p, weighted_r, weighted_f]"
   ]
  },
  {
   "cell_type": "code",
   "execution_count": 19,
   "id": "58cfb0ec",
   "metadata": {},
   "outputs": [],
   "source": [
    "results = pd.DataFrame(\n",
    "    [\n",
    "        ['TF-IDF'] + get_metrics(y_test, y_pred_tfidf),\n",
    "        ['BERT'] + get_metrics(y_test, y_pred_bert)\n",
    "    ],\n",
    "    columns=['Model', 'Accuracy', 'Macro Precision', 'Macro Recall', 'Macro F1',\n",
    "             'Weighted Precision', 'Weighted Recall', 'Weighted F1']\n",
    ")"
   ]
  },
  {
   "cell_type": "code",
   "execution_count": 20,
   "id": "b23bb67d",
   "metadata": {},
   "outputs": [
    {
     "name": "stdout",
     "output_type": "stream",
     "text": [
      "\n",
      "=== Model Performance Comparison ===\n",
      "\n",
      "    Model  Accuracy  Macro Precision  Macro Recall  Macro F1  \\\n",
      "0  TF-IDF  0.736111         0.659123      0.605367  0.611656   \n",
      "1    BERT  0.763889         0.624490      0.633938  0.620898   \n",
      "\n",
      "   Weighted Precision  Weighted Recall  Weighted F1  \n",
      "0            0.698731         0.736111     0.699010  \n",
      "1            0.705820         0.763889     0.723299  \n",
      "\n",
      "--- TF-IDF Classification Report ---\n",
      "                                  precision    recall  f1-score   support\n",
      "\n",
      "     Abetment_Conspiracy_Attempt       1.00      1.00      1.00         4\n",
      "         Contempt_PublicServants       0.67      0.50      0.57         4\n",
      " CriminalIntimidation_Defamation       0.00      0.00      0.00         1\n",
      "     FalseEvidence_PublicJustice       0.57      0.89      0.70         9\n",
      "              General_Exceptions       0.67      1.00      0.80         4\n",
      "            Offences_ArmedForces       0.00      0.00      0.00         2\n",
      "               Offences_Currency       1.00      0.50      0.67         2\n",
      "Offences_Documents_PropertyMarks       1.00      0.50      0.67         2\n",
      "              Offences_Elections       1.00      0.50      0.67         2\n",
      "              Offences_HumanBody       0.62      0.80      0.70        10\n",
      "               Offences_Property       0.57      0.67      0.62         6\n",
      "     Offences_PublicHealthSafety       1.00      1.00      1.00         6\n",
      "         Offences_PublicServants       0.00      0.00      0.00         2\n",
      "     Offences_PublicTranquillity       1.00      1.00      1.00         2\n",
      "               Offences_Religion       1.00      1.00      1.00         1\n",
      "                  Offences_State       1.00      1.00      1.00         2\n",
      "             Offences_WomenChild       0.75      0.86      0.80         7\n",
      "                           Other       0.00      0.00      0.00         1\n",
      "                  Property_Marks       0.00      0.00      0.00         1\n",
      "                     Punishments       1.00      0.50      0.67         2\n",
      "            Right_PrivateDefence       1.00      1.00      1.00         2\n",
      "\n",
      "                        accuracy                           0.74        72\n",
      "                       macro avg       0.66      0.61      0.61        72\n",
      "                    weighted avg       0.70      0.74      0.70        72\n",
      "\n",
      "\n",
      "--- BERT Classification Report ---\n",
      "                                  precision    recall  f1-score   support\n",
      "\n",
      "     Abetment_Conspiracy_Attempt       0.80      1.00      0.89         4\n",
      "         Contempt_PublicServants       0.33      0.50      0.40         4\n",
      " CriminalIntimidation_Defamation       0.00      0.00      0.00         1\n",
      "     FalseEvidence_PublicJustice       0.67      0.89      0.76         9\n",
      "              General_Exceptions       1.00      1.00      1.00         4\n",
      "            Offences_ArmedForces       1.00      0.50      0.67         2\n",
      "               Offences_Currency       1.00      1.00      1.00         2\n",
      "Offences_Documents_PropertyMarks       1.00      1.00      1.00         2\n",
      "              Offences_Elections       1.00      1.00      1.00         2\n",
      "              Offences_HumanBody       0.60      0.90      0.72        10\n",
      "               Offences_Property       0.71      0.83      0.77         6\n",
      "     Offences_PublicHealthSafety       1.00      0.83      0.91         6\n",
      "         Offences_PublicServants       0.00      0.00      0.00         2\n",
      "     Offences_PublicTranquillity       0.00      0.00      0.00         2\n",
      "               Offences_Religion       0.00      0.00      0.00         1\n",
      "                  Offences_State       1.00      1.00      1.00         2\n",
      "             Offences_WomenChild       1.00      0.86      0.92         7\n",
      "                           Other       0.00      0.00      0.00         1\n",
      "                  Property_Marks       1.00      1.00      1.00         1\n",
      "                     Punishments       0.00      0.00      0.00         2\n",
      "            Right_PrivateDefence       1.00      1.00      1.00         2\n",
      "\n",
      "                        accuracy                           0.76        72\n",
      "                       macro avg       0.62      0.63      0.62        72\n",
      "                    weighted avg       0.71      0.76      0.72        72\n",
      "\n"
     ]
    }
   ],
   "source": [
    "print(\"\\n=== Model Performance Comparison ===\\n\")\n",
    "print(results)\n",
    "\n",
    "# Optionally: detailed classification reports\n",
    "print(\"\\n--- TF-IDF Classification Report ---\")\n",
    "print(classification_report(y_test, y_pred_tfidf, target_names=le.classes_, zero_division=0))\n",
    "\n",
    "print(\"\\n--- BERT Classification Report ---\")\n",
    "print(classification_report(y_test, y_pred_bert, target_names=le.classes_, zero_division=0))"
   ]
  },
  {
   "cell_type": "markdown",
   "id": "5a56798b",
   "metadata": {},
   "source": [
    "## Using model trained thorugh cv"
   ]
  },
  {
   "cell_type": "code",
   "execution_count": 4,
   "id": "e72af701",
   "metadata": {},
   "outputs": [],
   "source": [
    "X = df['clean_text'].values\n",
    "y = df['Chapter_grouped']\n",
    "\n",
    "# Encode labels\n",
    "le = LabelEncoder()\n",
    "y_encoded = le.fit_transform(y)\n",
    "\n",
    "# Train-test split (common for both)\n",
    "X_train_text, X_test_text, y_train, y_test = train_test_split(\n",
    "    X, y_encoded, test_size=0.2, stratify=y_encoded, random_state=42\n",
    ")"
   ]
  },
  {
   "cell_type": "markdown",
   "id": "3fb0bb83",
   "metadata": {},
   "source": [
    "### TF-IDF hyper parameter tuning"
   ]
  },
  {
   "cell_type": "code",
   "execution_count": 5,
   "id": "8678b0f3",
   "metadata": {},
   "outputs": [],
   "source": [
    "tfidf_vectorizer = TfidfVectorizer(\n",
    "    stop_words='english',\n",
    "    max_features=5000,\n",
    "    ngram_range=(1,2)  # include unigrams and bigrams\n",
    ")\n",
    "\n",
    "X_train_tfidf = tfidf_vectorizer.fit_transform(X_train_text)\n",
    "X_test_tfidf = tfidf_vectorizer.transform(X_test_text)"
   ]
  },
  {
   "cell_type": "code",
   "execution_count": 6,
   "id": "7c59f3e2",
   "metadata": {},
   "outputs": [
    {
     "name": "stderr",
     "output_type": "stream",
     "text": [
      "/home/vasant/projects/Bhartiya-Nyay-Sanhita-LegalVerse/.venv/lib/python3.10/site-packages/sklearn/model_selection/_split.py:811: UserWarning: The least populated class in y has only 4 members, which is less than n_splits=5.\n",
      "  warnings.warn(\n"
     ]
    },
    {
     "name": "stdout",
     "output_type": "stream",
     "text": [
      "Best SVM params: {'C': 10, 'gamma': 'scale', 'kernel': 'linear'}\n",
      "Best SVM score: 0.5773390222580029\n"
     ]
    },
    {
     "name": "stderr",
     "output_type": "stream",
     "text": [
      "/home/vasant/projects/Bhartiya-Nyay-Sanhita-LegalVerse/.venv/lib/python3.10/site-packages/sklearn/model_selection/_split.py:811: UserWarning: The least populated class in y has only 4 members, which is less than n_splits=5.\n",
      "  warnings.warn(\n"
     ]
    },
    {
     "name": "stdout",
     "output_type": "stream",
     "text": [
      "Best RF params: {'max_depth': None, 'min_samples_leaf': 1, 'min_samples_split': 2, 'n_estimators': 200}\n",
      "Best RF score: 0.48792703440105034\n"
     ]
    }
   ],
   "source": [
    "from sklearn.model_selection import GridSearchCV\n",
    "\n",
    "# 1. SVM tuning\n",
    "svm_params = {\n",
    "    'kernel': ['linear', 'rbf'],\n",
    "    'C': [0.1, 1, 10],\n",
    "    'gamma': ['scale', 'auto']\n",
    "}\n",
    "svm_grid = GridSearchCV(SVC(probability=True, random_state=42), svm_params, cv=5, scoring='f1_macro')\n",
    "svm_grid.fit(X_train_tfidf, y_train)\n",
    "print(\"Best SVM params:\", svm_grid.best_params_)\n",
    "print(\"Best SVM score:\", svm_grid.best_score_)\n",
    "\n",
    "# 2. Random Forest tuning\n",
    "rf_params = {\n",
    "    'n_estimators': [100, 200],\n",
    "    'max_depth': [None, 10, 20],\n",
    "    'min_samples_split': [2, 5],\n",
    "    'min_samples_leaf': [1, 2]\n",
    "}\n",
    "rf_grid = GridSearchCV(RandomForestClassifier(random_state=42), rf_params, cv=5, scoring='f1_macro')\n",
    "rf_grid.fit(X_train_tfidf, y_train)\n",
    "print(\"Best RF params:\", rf_grid.best_params_)\n",
    "print(\"Best RF score:\", rf_grid.best_score_)"
   ]
  },
  {
   "cell_type": "code",
   "execution_count": 10,
   "id": "a24891d4",
   "metadata": {},
   "outputs": [],
   "source": [
    "# Use best models from tuning\n",
    "best_svm = svm_grid.best_estimator_\n",
    "best_rf = rf_grid.best_estimator_\n",
    "\n",
    "# Add Logistic Regression as tiebreaker\n",
    "log_reg = LogisticRegression(max_iter=1000, random_state=42)\n",
    "\n",
    "voting_clf = VotingClassifier(\n",
    "    estimators=[\n",
    "        ('svm', best_svm),\n",
    "        ('rf', best_rf),\n",
    "        ('lr', log_reg)\n",
    "    ],\n",
    "    voting='soft'\n",
    ")\n",
    "\n",
    "voting_clf.fit(X_train_tfidf, y_train)\n",
    "y_pred_tfidf = voting_clf.predict(X_test_tfidf)"
   ]
  },
  {
   "cell_type": "markdown",
   "id": "274a853c",
   "metadata": {},
   "source": [
    "## BERT Hyper Parameter tuning"
   ]
  },
  {
   "cell_type": "code",
   "execution_count": 12,
   "id": "6f7daf49",
   "metadata": {},
   "outputs": [
    {
     "name": "stderr",
     "output_type": "stream",
     "text": [
      "Batches: 100%|████████████████████████████████████████████████████████████████████████████| 9/9 [00:03<00:00,  2.28it/s]\n",
      "Batches: 100%|████████████████████████████████████████████████████████████████████████████| 3/3 [00:01<00:00,  2.97it/s]\n"
     ]
    }
   ],
   "source": [
    "bert_model = SentenceTransformer('all-MiniLM-L6-v2')\n",
    "X_train_bert = bert_model.encode(X_train_text, show_progress_bar=True)\n",
    "X_test_bert = bert_model.encode(X_test_text, show_progress_bar=True)"
   ]
  },
  {
   "cell_type": "code",
   "execution_count": 13,
   "id": "419d2b24",
   "metadata": {},
   "outputs": [
    {
     "name": "stderr",
     "output_type": "stream",
     "text": [
      "/home/vasant/projects/Bhartiya-Nyay-Sanhita-LegalVerse/.venv/lib/python3.10/site-packages/sklearn/model_selection/_split.py:811: UserWarning: The least populated class in y has only 4 members, which is less than n_splits=5.\n",
      "  warnings.warn(\n"
     ]
    },
    {
     "name": "stdout",
     "output_type": "stream",
     "text": [
      "Best SVM params: {'C': 10, 'gamma': 'scale', 'kernel': 'linear'}\n",
      "Best SVM score: 0.6503978658039914\n"
     ]
    },
    {
     "name": "stderr",
     "output_type": "stream",
     "text": [
      "/home/vasant/projects/Bhartiya-Nyay-Sanhita-LegalVerse/.venv/lib/python3.10/site-packages/sklearn/model_selection/_split.py:811: UserWarning: The least populated class in y has only 4 members, which is less than n_splits=5.\n",
      "  warnings.warn(\n"
     ]
    },
    {
     "name": "stdout",
     "output_type": "stream",
     "text": [
      "Best RF params: {'max_depth': 20, 'min_samples_leaf': 1, 'min_samples_split': 5, 'n_estimators': 200}\n",
      "Best RF score: 0.4197974397442216\n"
     ]
    }
   ],
   "source": [
    "from sklearn.model_selection import GridSearchCV\n",
    "\n",
    "# 1. SVM tuning\n",
    "svm_params = {\n",
    "    'kernel': ['linear', 'rbf'],\n",
    "    'C': [0.1, 1, 10],\n",
    "    'gamma': ['scale', 'auto']\n",
    "}\n",
    "svm_grid = GridSearchCV(SVC(probability=True, random_state=42), svm_params, cv=5, scoring='f1_macro')\n",
    "svm_grid.fit(X_train_bert, y_train)\n",
    "print(\"Best SVM params:\", svm_grid.best_params_)\n",
    "print(\"Best SVM score:\", svm_grid.best_score_)\n",
    "\n",
    "# 2. Random Forest tuning\n",
    "rf_params = {\n",
    "    'n_estimators': [100, 200],\n",
    "    'max_depth': [None, 10, 20],\n",
    "    'min_samples_split': [2, 5],\n",
    "    'min_samples_leaf': [1, 2]\n",
    "}\n",
    "rf_grid = GridSearchCV(RandomForestClassifier(random_state=42), rf_params, cv=5, scoring='f1_macro')\n",
    "rf_grid.fit(X_train_bert, y_train)\n",
    "print(\"Best RF params:\", rf_grid.best_params_)\n",
    "print(\"Best RF score:\", rf_grid.best_score_)"
   ]
  },
  {
   "cell_type": "code",
   "execution_count": 14,
   "id": "c4dfa186",
   "metadata": {},
   "outputs": [],
   "source": [
    "# Use best models from tuning\n",
    "best_svm = svm_grid.best_estimator_\n",
    "best_rf = rf_grid.best_estimator_\n",
    "\n",
    "# Add Logistic Regression as tiebreaker\n",
    "log_reg = LogisticRegression(max_iter=1000, random_state=42)\n",
    "\n",
    "voting_clf_bert = VotingClassifier(\n",
    "    estimators=[\n",
    "        ('svm', best_svm),\n",
    "        ('rf', best_rf),\n",
    "        ('lr', log_reg)\n",
    "    ],\n",
    "    voting='soft'\n",
    ")\n",
    "\n",
    "voting_clf_bert.fit(X_train_bert, y_train)\n",
    "y_pred_bert = voting_clf_bert.predict(X_test_bert)"
   ]
  },
  {
   "cell_type": "code",
   "execution_count": 17,
   "id": "8d8c94f8",
   "metadata": {},
   "outputs": [],
   "source": [
    "results = pd.DataFrame(\n",
    "    [\n",
    "        ['TF-IDF'] + get_metrics(y_test, y_pred_tfidf),\n",
    "        ['BERT'] + get_metrics(y_test, y_pred_bert)\n",
    "    ],\n",
    "    columns=['Model', 'Accuracy', 'Macro Precision', 'Macro Recall', 'Macro F1',\n",
    "             'Weighted Precision', 'Weighted Recall', 'Weighted F1']\n",
    ")"
   ]
  },
  {
   "cell_type": "code",
   "execution_count": 18,
   "id": "b42b1387",
   "metadata": {},
   "outputs": [
    {
     "name": "stdout",
     "output_type": "stream",
     "text": [
      "\n",
      "=== Model Performance Comparison ===\n",
      "\n",
      "    Model  Accuracy  Macro Precision  Macro Recall  Macro F1  \\\n",
      "0  TF-IDF      0.75         0.758333      0.671504  0.689549   \n",
      "1    BERT      0.75         0.618285      0.628647  0.616239   \n",
      "\n",
      "   Weighted Precision  Weighted Recall  Weighted F1  \n",
      "0            0.762731             0.75     0.736604  \n",
      "1            0.694096             0.75     0.713317  \n",
      "\n",
      "--- TF-IDF Classification Report ---\n",
      "                                  precision    recall  f1-score   support\n",
      "\n",
      "     Abetment_Conspiracy_Attempt       1.00      0.75      0.86         4\n",
      "         Contempt_PublicServants       0.50      0.75      0.60         4\n",
      " CriminalIntimidation_Defamation       0.00      0.00      0.00         1\n",
      "     FalseEvidence_PublicJustice       0.58      0.78      0.67         9\n",
      "              General_Exceptions       0.67      1.00      0.80         4\n",
      "            Offences_ArmedForces       1.00      0.50      0.67         2\n",
      "               Offences_Currency       1.00      0.50      0.67         2\n",
      "Offences_Documents_PropertyMarks       1.00      1.00      1.00         2\n",
      "              Offences_Elections       1.00      0.50      0.67         2\n",
      "              Offences_HumanBody       0.80      0.80      0.80        10\n",
      "               Offences_Property       0.62      0.83      0.71         6\n",
      "     Offences_PublicHealthSafety       1.00      0.83      0.91         6\n",
      "         Offences_PublicServants       0.00      0.00      0.00         2\n",
      "     Offences_PublicTranquillity       1.00      0.50      0.67         2\n",
      "               Offences_Religion       1.00      1.00      1.00         1\n",
      "                  Offences_State       1.00      1.00      1.00         2\n",
      "             Offences_WomenChild       0.75      0.86      0.80         7\n",
      "                           Other       0.00      0.00      0.00         1\n",
      "                  Property_Marks       1.00      1.00      1.00         1\n",
      "                     Punishments       1.00      0.50      0.67         2\n",
      "            Right_PrivateDefence       1.00      1.00      1.00         2\n",
      "\n",
      "                        accuracy                           0.75        72\n",
      "                       macro avg       0.76      0.67      0.69        72\n",
      "                    weighted avg       0.76      0.75      0.74        72\n",
      "\n",
      "\n",
      "--- BERT Classification Report ---\n",
      "                                  precision    recall  f1-score   support\n",
      "\n",
      "     Abetment_Conspiracy_Attempt       0.80      1.00      0.89         4\n",
      "         Contempt_PublicServants       0.33      0.50      0.40         4\n",
      " CriminalIntimidation_Defamation       0.00      0.00      0.00         1\n",
      "     FalseEvidence_PublicJustice       0.64      0.78      0.70         9\n",
      "              General_Exceptions       1.00      1.00      1.00         4\n",
      "            Offences_ArmedForces       1.00      0.50      0.67         2\n",
      "               Offences_Currency       1.00      1.00      1.00         2\n",
      "Offences_Documents_PropertyMarks       1.00      1.00      1.00         2\n",
      "              Offences_Elections       1.00      1.00      1.00         2\n",
      "              Offences_HumanBody       0.64      0.90      0.75        10\n",
      "               Offences_Property       0.71      0.83      0.77         6\n",
      "     Offences_PublicHealthSafety       1.00      0.83      0.91         6\n",
      "         Offences_PublicServants       0.00      0.00      0.00         2\n",
      "     Offences_PublicTranquillity       0.00      0.00      0.00         2\n",
      "               Offences_Religion       0.00      0.00      0.00         1\n",
      "                  Offences_State       1.00      1.00      1.00         2\n",
      "             Offences_WomenChild       0.86      0.86      0.86         7\n",
      "                           Other       0.00      0.00      0.00         1\n",
      "                  Property_Marks       1.00      1.00      1.00         1\n",
      "                     Punishments       0.00      0.00      0.00         2\n",
      "            Right_PrivateDefence       1.00      1.00      1.00         2\n",
      "\n",
      "                        accuracy                           0.75        72\n",
      "                       macro avg       0.62      0.63      0.62        72\n",
      "                    weighted avg       0.69      0.75      0.71        72\n",
      "\n"
     ]
    }
   ],
   "source": [
    "print(\"\\n=== Model Performance Comparison ===\\n\")\n",
    "print(results)\n",
    "\n",
    "# Optionally: detailed classification reports\n",
    "print(\"\\n--- TF-IDF Classification Report ---\")\n",
    "print(classification_report(y_test, y_pred_tfidf, target_names=le.classes_, zero_division=0))\n",
    "\n",
    "print(\"\\n--- BERT Classification Report ---\")\n",
    "print(classification_report(y_test, y_pred_bert, target_names=le.classes_, zero_division=0))"
   ]
  },
  {
   "cell_type": "code",
   "execution_count": null,
   "id": "3befbc69",
   "metadata": {},
   "outputs": [],
   "source": []
  },
  {
   "cell_type": "code",
   "execution_count": null,
   "id": "d89a0980",
   "metadata": {},
   "outputs": [],
   "source": []
  },
  {
   "cell_type": "code",
   "execution_count": null,
   "id": "a061f8aa",
   "metadata": {},
   "outputs": [],
   "source": [
    "# file: train_bns_ensemble.py\n",
    "import os\n",
    "import joblib\n",
    "import pandas as pd\n",
    "import numpy as np\n",
    "\n",
    "from sklearn.model_selection import train_test_split, StratifiedKFold, cross_val_score\n",
    "from sklearn.feature_extraction.text import TfidfVectorizer\n",
    "from sklearn.pipeline import Pipeline\n",
    "from sklearn.ensemble import RandomForestClassifier, VotingClassifier\n",
    "from sklearn.linear_model import LogisticRegression\n",
    "from sklearn.svm import SVC\n",
    "from sklearn.preprocessing import LabelEncoder\n",
    "from sklearn.metrics import (\n",
    "    accuracy_score, precision_recall_fscore_support, classification_report, confusion_matrix\n",
    ")\n",
    "\n",
    "# -----------------------\n",
    "# Config\n",
    "# -----------------------\n",
    "RANDOM_STATE = 42\n",
    "TEST_SIZE = 0.20\n",
    "MIN_SAMPLES_TO_KEEP = 2  # classes with < this will be grouped into \"Other\"\n",
    "ARTIFACT_DIR = \"artifacts\"\n",
    "os.makedirs(ARTIFACT_DIR, exist_ok=True)\n",
    "\n",
    "# -----------------------\n",
    "# Load data (replace with actual file)\n",
    "# -----------------------\n",
    "# df must contain at least: 'Description' (text) and 'Chapter_name' (label)\n",
    "# Example:\n",
    "# df = pd.read_csv(\"bns_sections.csv\")\n",
    "# For demo, assume df is already loaded\n",
    "# -----------------------\n",
    "# Uncomment and update above line to load your data\n",
    "# df = pd.read_csv(\"bns_sections.csv\")\n",
    "\n",
    "# For safety check: ensure columns exist\n",
    "# assert 'Description' in df.columns and 'Chapter_name' in df.columns\n",
    "\n",
    "# -----------------------\n",
    "# Preprocess labels: merge rare classes into \"Other\"\n",
    "# -----------------------\n",
    "def merge_rare_labels(df, label_col='Chapter_name', min_samples=MIN_SAMPLES_TO_KEEP):\n",
    "    counts = df[label_col].value_counts()\n",
    "    rare = counts[counts < min_samples].index.tolist()\n",
    "    df = df.copy()\n",
    "    if rare:\n",
    "        df[label_col] = df[label_col].apply(lambda v: v if v not in rare else \"Other\")\n",
    "    return df, rare\n",
    "\n",
    "# -----------------------\n",
    "# Build pipeline (single TF-IDF followed by Voting classifier)\n",
    "# -----------------------\n",
    "def build_pipeline(tfidf_max_features=5000):\n",
    "    # classifiers must support predict_proba for soft voting; SVC(probability=True) is slower but OK.\n",
    "    svm_clf = SVC(C=10, kernel='linear', probability=True, random_state=RANDOM_STATE)\n",
    "    lr_clf = LogisticRegression(max_iter=2000, class_weight='balanced', random_state=RANDOM_STATE)\n",
    "    rf_clf = RandomForestClassifier(n_estimators=200, class_weight='balanced', random_state=RANDOM_STATE)\n",
    "\n",
    "    voting = VotingClassifier(\n",
    "        estimators=[\n",
    "            ('svm', svm_clf),\n",
    "            ('lr', lr_clf),\n",
    "            ('rf', rf_clf)\n",
    "        ],\n",
    "        voting='soft',  # uses predict_proba\n",
    "        n_jobs=-1\n",
    "    )\n",
    "\n",
    "    pipeline = Pipeline([\n",
    "        ('tfidf', TfidfVectorizer(ngram_range=(1,2), max_features=tfidf_max_features)),\n",
    "        ('voting', voting)\n",
    "    ])\n",
    "    return pipeline\n",
    "\n",
    "# -----------------------\n",
    "# Train, evaluate, and save\n",
    "# -----------------------\n",
    "def train_and_save(df, text_col='Description', label_col='Chapter_name'):\n",
    "    # Merge rare labels\n",
    "    df2, rare = merge_rare_labels(df, label_col=label_col, min_samples=MIN_SAMPLES_TO_KEEP)\n",
    "    print(f\"Merged {len(rare)} rare classes into 'Other': {rare}\")\n",
    "\n",
    "    X = df2[text_col].astype(str).values\n",
    "    y = df2[label_col].astype(str).values\n",
    "\n",
    "    # Encode labels\n",
    "    le = LabelEncoder()\n",
    "    y_enc = le.fit_transform(y)\n",
    "\n",
    "    # Split (stratified)\n",
    "    X_train, X_test, y_train, y_test = train_test_split(\n",
    "        X, y_enc, test_size=TEST_SIZE, random_state=RANDOM_STATE, stratify=y_enc\n",
    "    )\n",
    "    print(\"Train/test sizes:\", len(X_train), len(X_test))\n",
    "\n",
    "    # Build pipeline\n",
    "    pipeline = build_pipeline(tfidf_max_features=5000)\n",
    "\n",
    "    # Cross-validate on training set for robust estimate\n",
    "    cv = StratifiedKFold(n_splits=5, shuffle=True, random_state=RANDOM_STATE)\n",
    "    scoring = 'f1_macro'\n",
    "    cv_scores = cross_val_score(pipeline, X_train, y_train, cv=cv, scoring=scoring, n_jobs=-1)\n",
    "    print(f\"CV ({scoring}) on train: mean={cv_scores.mean():.4f}, std={cv_scores.std():.4f}\")\n",
    "\n",
    "    # Fit on full training set\n",
    "    pipeline.fit(X_train, y_train)\n",
    "\n",
    "    # Evaluate on test set\n",
    "    y_pred = pipeline.predict(X_test)\n",
    "    acc = accuracy_score(y_test, y_pred)\n",
    "    macro_p, macro_r, macro_f, _ = precision_recall_fscore_support(y_test, y_pred, average='macro', zero_division=0)\n",
    "    weighted_p, weighted_r, weighted_f, _ = precision_recall_fscore_support(y_test, y_pred, average='weighted', zero_division=0)\n",
    "\n",
    "    print(\"\\n=== Test set evaluation ===\")\n",
    "    print(f\"Accuracy: {acc:.4f}\")\n",
    "    print(f\"Macro Precision: {macro_p:.4f}, Macro Recall: {macro_r:.4f}, Macro F1: {macro_f:.4f}\")\n",
    "    print(f\"Weighted Precision: {weighted_p:.4f}, Weighted Recall: {weighted_r:.4f}, Weighted F1: {weighted_f:.4f}\")\n",
    "    print(\"\\nClassification Report:\\n\")\n",
    "    print(classification_report(y_test, y_pred, target_names=le.classes_, zero_division=0))\n",
    "\n",
    "    # Save artifacts\n",
    "    pipeline_path = os.path.join(ARTIFACT_DIR, \"bns_pipeline_v1.joblib\")\n",
    "    le_path = os.path.join(ARTIFACT_DIR, \"label_encoder_v1.joblib\")\n",
    "    joblib.dump(pipeline, pipeline_path)\n",
    "    joblib.dump(le, le_path)\n",
    "    print(f\"\\nSaved pipeline to: {pipeline_path}\")\n",
    "    print(f\"Saved label encoder to: {le_path}\")\n",
    "\n",
    "    # Save a short report CSV with key metrics\n",
    "    report = {\n",
    "        \"pipeline\": pipeline_path,\n",
    "        \"label_encoder\": le_path,\n",
    "        \"cv_f1_macro_mean\": cv_scores.mean(),\n",
    "        \"cv_f1_macro_std\": cv_scores.std(),\n",
    "        \"test_accuracy\": acc,\n",
    "        \"test_macro_f1\": macro_f,\n",
    "        \"test_weighted_f1\": weighted_f\n",
    "    }\n",
    "    pd.DataFrame([report]).to_csv(os.path.join(ARTIFACT_DIR, \"training_report_v1.csv\"), index=False)\n",
    "    print(\"Saved training report.\")\n",
    "\n",
    "    return pipeline_path, le_path, le.classes_\n",
    "\n",
    "# -----------------------\n",
    "# Inference helper\n",
    "# -----------------------\n",
    "def predict_texts(texts, pipeline_path=os.path.join(ARTIFACT_DIR, \"bns_pipeline_v1.joblib\"),\n",
    "                  le_path=os.path.join(ARTIFACT_DIR, \"label_encoder_v1.joblib\")):\n",
    "    \"\"\"\n",
    "    texts: list of raw description strings\n",
    "    returns: DataFrame with predicted label and probability\n",
    "    \"\"\"\n",
    "    pipeline = joblib.load(pipeline_path)\n",
    "    le = joblib.load(le_path)\n",
    "    probs = pipeline.predict_proba(texts)\n",
    "    preds_idx = np.argmax(probs, axis=1)\n",
    "    preds = le.inverse_transform(preds_idx)\n",
    "    max_probs = probs.max(axis=1)\n",
    "    return pd.DataFrame({\"text\": texts, \"pred_label\": preds, \"prob\": max_probs})\n",
    "\n",
    "# -----------------------\n",
    "# Example run (uncomment to run)\n",
    "# -----------------------\n",
    "# if __name__ == \"__main__\":\n",
    "#     df = pd.read_csv(\"bns_sections.csv\")  # <-- update with your filename\n",
    "#     train_and_save(df, text_col='Description', label_col='Chapter_short')  # or 'Chapter_grouped'\n",
    "#     # After training, inference example:\n",
    "#     # print(predict_texts([\"A short legal provision text ...\"]))\n"
   ]
  },
  {
   "cell_type": "code",
   "execution_count": null,
   "id": "e3da6d1d",
   "metadata": {},
   "outputs": [],
   "source": []
  }
 ],
 "metadata": {
  "kernelspec": {
   "display_name": "Python 3 (ipykernel)",
   "language": "python",
   "name": "python3"
  },
  "language_info": {
   "codemirror_mode": {
    "name": "ipython",
    "version": 3
   },
   "file_extension": ".py",
   "mimetype": "text/x-python",
   "name": "python",
   "nbconvert_exporter": "python",
   "pygments_lexer": "ipython3",
   "version": "3.10.12"
  }
 },
 "nbformat": 4,
 "nbformat_minor": 5
}
