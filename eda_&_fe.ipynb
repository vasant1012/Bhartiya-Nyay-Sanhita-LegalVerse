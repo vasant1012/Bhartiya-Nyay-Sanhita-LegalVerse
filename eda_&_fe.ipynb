{
 "cells": [
  {
   "cell_type": "markdown",
   "id": "8c2b52ca",
   "metadata": {},
   "source": [
    "## Load the data & basic integrity checks"
   ]
  },
  {
   "cell_type": "code",
   "execution_count": 1,
   "id": "c5451edd",
   "metadata": {
    "ExecuteTime": {
     "end_time": "2025-08-08T15:39:57.092303Z",
     "start_time": "2025-08-08T15:39:56.749693Z"
    }
   },
   "outputs": [
    {
     "data": {
      "text/html": [
       "<div>\n",
       "<style scoped>\n",
       "    .dataframe tbody tr th:only-of-type {\n",
       "        vertical-align: middle;\n",
       "    }\n",
       "\n",
       "    .dataframe tbody tr th {\n",
       "        vertical-align: top;\n",
       "    }\n",
       "\n",
       "    .dataframe thead th {\n",
       "        text-align: right;\n",
       "    }\n",
       "</style>\n",
       "<table border=\"1\" class=\"dataframe\">\n",
       "  <thead>\n",
       "    <tr style=\"text-align: right;\">\n",
       "      <th></th>\n",
       "      <th>Chapter</th>\n",
       "      <th>Chapter_name</th>\n",
       "      <th>Chapter_subtype</th>\n",
       "      <th>Section</th>\n",
       "      <th>Section _name</th>\n",
       "      <th>Description</th>\n",
       "    </tr>\n",
       "  </thead>\n",
       "  <tbody>\n",
       "    <tr>\n",
       "      <th>352</th>\n",
       "      <td>19</td>\n",
       "      <td>OF CRIMINAL INTIMIDATION, INSULT, ANNOYANCE, D...</td>\n",
       "      <td>OF CRIMINAL INTIMIDATION, INSULT, ANNOYANCE, D...</td>\n",
       "      <td>353</td>\n",
       "      <td>Statements conducing to public mischief.</td>\n",
       "      <td>(1) Whoever makes, publishes or circulates any...</td>\n",
       "    </tr>\n",
       "    <tr>\n",
       "      <th>212</th>\n",
       "      <td>13</td>\n",
       "      <td>OF CONTEMPTS OF THE LAWFUL AUTHORITY OF PUBLIC...</td>\n",
       "      <td>OF CONTEMPTS OF THE LAWFUL AUTHORITY OF PUBLIC...</td>\n",
       "      <td>213</td>\n",
       "      <td>Refusing oath or affirmation when duly require...</td>\n",
       "      <td>Whoever refuses to bind himself by an oath or ...</td>\n",
       "    </tr>\n",
       "    <tr>\n",
       "      <th>205</th>\n",
       "      <td>13</td>\n",
       "      <td>OF CONTEMPTS OF THE LAWFUL AUTHORITY OF PUBLIC...</td>\n",
       "      <td>OF CONTEMPTS OF THE LAWFUL AUTHORITY OF PUBLIC...</td>\n",
       "      <td>206</td>\n",
       "      <td>Absconding to avoid service of summons or othe...</td>\n",
       "      <td>Whoever absconds in order to avoid being serve...</td>\n",
       "    </tr>\n",
       "    <tr>\n",
       "      <th>215</th>\n",
       "      <td>13</td>\n",
       "      <td>OF CONTEMPTS OF THE LAWFUL AUTHORITY OF PUBLIC...</td>\n",
       "      <td>OF CONTEMPTS OF THE LAWFUL AUTHORITY OF PUBLIC...</td>\n",
       "      <td>216</td>\n",
       "      <td>False statement on oath or affirmation to publ...</td>\n",
       "      <td>Whoever, being legally bound by an oath or aff...</td>\n",
       "    </tr>\n",
       "    <tr>\n",
       "      <th>79</th>\n",
       "      <td>5</td>\n",
       "      <td>OF OFFENCES AGAINST WOMAN AND CHILD</td>\n",
       "      <td>Of offences relating to marriage</td>\n",
       "      <td>80</td>\n",
       "      <td>Dowry death.</td>\n",
       "      <td>(1) Where the death of a woman is caused by an...</td>\n",
       "    </tr>\n",
       "  </tbody>\n",
       "</table>\n",
       "</div>"
      ],
      "text/plain": [
       "     Chapter                                       Chapter_name  \\\n",
       "352       19  OF CRIMINAL INTIMIDATION, INSULT, ANNOYANCE, D...   \n",
       "212       13  OF CONTEMPTS OF THE LAWFUL AUTHORITY OF PUBLIC...   \n",
       "205       13  OF CONTEMPTS OF THE LAWFUL AUTHORITY OF PUBLIC...   \n",
       "215       13  OF CONTEMPTS OF THE LAWFUL AUTHORITY OF PUBLIC...   \n",
       "79         5                OF OFFENCES AGAINST WOMAN AND CHILD   \n",
       "\n",
       "                                       Chapter_subtype  Section  \\\n",
       "352  OF CRIMINAL INTIMIDATION, INSULT, ANNOYANCE, D...      353   \n",
       "212  OF CONTEMPTS OF THE LAWFUL AUTHORITY OF PUBLIC...      213   \n",
       "205  OF CONTEMPTS OF THE LAWFUL AUTHORITY OF PUBLIC...      206   \n",
       "215  OF CONTEMPTS OF THE LAWFUL AUTHORITY OF PUBLIC...      216   \n",
       "79                    Of offences relating to marriage       80   \n",
       "\n",
       "                                         Section _name  \\\n",
       "352           Statements conducing to public mischief.   \n",
       "212  Refusing oath or affirmation when duly require...   \n",
       "205  Absconding to avoid service of summons or othe...   \n",
       "215  False statement on oath or affirmation to publ...   \n",
       "79                                        Dowry death.   \n",
       "\n",
       "                                           Description  \n",
       "352  (1) Whoever makes, publishes or circulates any...  \n",
       "212  Whoever refuses to bind himself by an oath or ...  \n",
       "205  Whoever absconds in order to avoid being serve...  \n",
       "215  Whoever, being legally bound by an oath or aff...  \n",
       "79   (1) Where the death of a woman is caused by an...  "
      ]
     },
     "execution_count": 1,
     "metadata": {},
     "output_type": "execute_result"
    }
   ],
   "source": [
    "import pandas as pd\n",
    "\n",
    "df = pd.read_csv('bns_sections.csv')\n",
    "\n",
    "df.sample(5)"
   ]
  },
  {
   "cell_type": "code",
   "execution_count": 2,
   "id": "6ff956e5",
   "metadata": {},
   "outputs": [],
   "source": [
    "chapter_short_map = {\n",
    "    \"OF OFFENCES AFFECTING THE HUMAN BODY\": \"Offences_HumanBody\",\n",
    "    \"OF FALSE EVIDENCE AND OFFENCES AGAINST PUBLIC JUSTICE\": \"FalseEvidence_PublicJustice\",\n",
    "    \"OF OFFENCES AGAINST WOMAN AND CHILD\": \"Offences_WomenChild\",\n",
    "    \"OF OFFENCES AGAINST PROPERTY\": \"Offences_Property\",\n",
    "    \"OF OFFENCES AFFECTING THE PUBLIC HEALTH, SAFETY, CONVENIENCE, DECENCY AND MORALS\": \"Offences_PublicHealthSafety\",\n",
    "    \"OF CONTEMPTS OF THE LAWFUL AUTHORITY OF PUBLIC SERVANTS\": \"Contempt_PublicServants\",\n",
    "    \"General exceptions\": \"General_Exceptions\",\n",
    "    \"OF ABETMENT, CRIMINAL CONSPIRACY AND ATTEMPT\": \"Abetment_Conspiracy_Attempt\",\n",
    "    \"OF OFFENCES AGAINST THE STATE\": \"Offences_State\",\n",
    "    \"Of right of private defence\": \"Right_PrivateDefence\",\n",
    "    \"OF OFFENCES RELATING TO COIN, CURRENCY-NOTES, BANK-NOTES, AND GOVERNMENT STAMPS\": \"Offences_Currency\",\n",
    "    \"OF OFFENCES RELATING TO DOCUMENTS AND TO PROPERTY MARKS\": \"Offences_Documents_PropertyMarks\",\n",
    "    \"OF OFFENCES RELATING TO THE ARMY, NAVY AND AIR FORCE\": \"Offences_ArmedForces\",\n",
    "    \"Of punishments\": \"Punishments\",\n",
    "    \"OF OFFENCES AGAINST THE PUBLIC TRANQUILLITY\": \"Offences_PublicTranquillity\",\n",
    "    \"OF OFFENCES RELATING TO ELECTIONS\": \"Offences_Elections\",\n",
    "    \"OF OFFENCES BY OR RELATING TO PUBLIC SERVANTS\": \"Offences_PublicServants\",\n",
    "    \"Of property marks\": \"Property_Marks\",\n",
    "    \"OF OFFENCES RELATING TO RELIGION\": \"Offences_Religion\",\n",
    "    \"OF CRIMINAL INTIMIDATION, INSULT, ANNOYANCE, DEFAMATION, ETC.\": \"CriminalIntimidation_Defamation\",\n",
    "    \"Preliminary\": \"Preliminary\",\n",
    "    \"Of breach of contract to attend on and supply wants of helpless person\": \"Breach_Contract_HelplessPerson\",\n",
    "    \"Of defamation\": \"Defamation\",\n",
    "    \"REPEAL AND SAVINGS\": \"Repeal_Savings\"\n",
    "}\n",
    "\n",
    "df[\"Chapter_short\"] = df[\"Chapter_name\"].replace(chapter_short_map)"
   ]
  },
  {
   "cell_type": "code",
   "execution_count": 3,
   "id": "930b44d6",
   "metadata": {
    "ExecuteTime": {
     "end_time": "2025-08-08T15:39:57.096880Z",
     "start_time": "2025-08-08T15:39:57.093678Z"
    }
   },
   "outputs": [
    {
     "data": {
      "text/plain": [
       "(358, 7)"
      ]
     },
     "execution_count": 3,
     "metadata": {},
     "output_type": "execute_result"
    }
   ],
   "source": [
    "df.shape"
   ]
  },
  {
   "cell_type": "code",
   "execution_count": 4,
   "id": "ac9372e4",
   "metadata": {
    "ExecuteTime": {
     "end_time": "2025-08-08T15:39:57.101310Z",
     "start_time": "2025-08-08T15:39:57.098231Z"
    }
   },
   "outputs": [
    {
     "data": {
      "text/plain": [
       "['Chapter',\n",
       " 'Chapter_name',\n",
       " 'Chapter_subtype',\n",
       " 'Section',\n",
       " 'Section _name',\n",
       " 'Description',\n",
       " 'Chapter_short']"
      ]
     },
     "execution_count": 4,
     "metadata": {},
     "output_type": "execute_result"
    }
   ],
   "source": [
    "df.columns.tolist()"
   ]
  },
  {
   "cell_type": "code",
   "execution_count": 5,
   "id": "39f203a7",
   "metadata": {
    "ExecuteTime": {
     "end_time": "2025-08-08T15:39:57.111547Z",
     "start_time": "2025-08-08T15:39:57.107874Z"
    }
   },
   "outputs": [
    {
     "data": {
      "text/plain": [
       "Index(['Chapter', 'Chapter_name', 'Chapter_subtype', 'Section', 'Section_name',\n",
       "       'Description', 'Chapter_short'],\n",
       "      dtype='object')"
      ]
     },
     "execution_count": 5,
     "metadata": {},
     "output_type": "execute_result"
    }
   ],
   "source": [
    "df = df.rename({'Section _name': 'Section_name'}, axis=1)\n",
    "df.columns"
   ]
  },
  {
   "cell_type": "code",
   "execution_count": 6,
   "id": "7ad90479",
   "metadata": {
    "ExecuteTime": {
     "end_time": "2025-08-08T15:39:57.106540Z",
     "start_time": "2025-08-08T15:39:57.102807Z"
    }
   },
   "outputs": [
    {
     "data": {
      "text/plain": [
       "Chapter            0\n",
       "Chapter_name       0\n",
       "Chapter_subtype    0\n",
       "Section            0\n",
       "Section_name       0\n",
       "Description        0\n",
       "Chapter_short      0\n",
       "dtype: int64"
      ]
     },
     "execution_count": 6,
     "metadata": {},
     "output_type": "execute_result"
    }
   ],
   "source": [
    "df.isnull().sum()"
   ]
  },
  {
   "cell_type": "code",
   "execution_count": 7,
   "id": "bdf1085e",
   "metadata": {
    "ExecuteTime": {
     "end_time": "2025-08-08T15:39:57.118296Z",
     "start_time": "2025-08-08T15:39:57.112508Z"
    }
   },
   "outputs": [
    {
     "name": "stdout",
     "output_type": "stream",
     "text": [
      "<class 'pandas.core.frame.DataFrame'>\n",
      "RangeIndex: 358 entries, 0 to 357\n",
      "Data columns (total 7 columns):\n",
      " #   Column           Non-Null Count  Dtype \n",
      "---  ------           --------------  ----- \n",
      " 0   Chapter          358 non-null    int64 \n",
      " 1   Chapter_name     358 non-null    object\n",
      " 2   Chapter_subtype  358 non-null    object\n",
      " 3   Section          358 non-null    int64 \n",
      " 4   Section_name     358 non-null    object\n",
      " 5   Description      358 non-null    object\n",
      " 6   Chapter_short    358 non-null    object\n",
      "dtypes: int64(2), object(5)\n",
      "memory usage: 19.7+ KB\n"
     ]
    }
   ],
   "source": [
    "df.info()"
   ]
  },
  {
   "cell_type": "markdown",
   "id": "86eb29a0",
   "metadata": {},
   "source": [
    "## Data integrity: duplicates & unique counts"
   ]
  },
  {
   "cell_type": "code",
   "execution_count": 8,
   "id": "ab39381e",
   "metadata": {
    "ExecuteTime": {
     "end_time": "2025-08-08T15:39:57.124938Z",
     "start_time": "2025-08-08T15:39:57.119103Z"
    }
   },
   "outputs": [
    {
     "name": "stdout",
     "output_type": "stream",
     "text": [
      "Full row duplicates: 0\n",
      "Duplicates on (Section, Description): 0\n",
      "Unique chapters: 20\n",
      "Unique chapter names: 24\n",
      "Unique sections: 358\n"
     ]
    }
   ],
   "source": [
    "# duplicates\n",
    "print(\"Full row duplicates:\", df.duplicated().sum())\n",
    "print(\"Duplicates on (Section, Description):\",\n",
    "      df.duplicated(subset=['Section', 'Description']).sum())\n",
    "\n",
    "# unique counts\n",
    "print(\"Unique chapters:\", df['Chapter'].nunique())\n",
    "print(\"Unique chapter names:\", df['Chapter_name'].nunique())\n",
    "print(\"Unique sections:\", df['Section'].nunique())"
   ]
  },
  {
   "cell_type": "markdown",
   "id": "7defeaa8",
   "metadata": {},
   "source": [
    "## Text-length / distribution stats"
   ]
  },
  {
   "cell_type": "code",
   "execution_count": 9,
   "id": "a8aaba19",
   "metadata": {
    "ExecuteTime": {
     "end_time": "2025-08-08T15:39:57.136938Z",
     "start_time": "2025-08-08T15:39:57.125648Z"
    }
   },
   "outputs": [
    {
     "name": "stdout",
     "output_type": "stream",
     "text": [
      "count      358.000000\n",
      "mean       956.446927\n",
      "std       1230.919081\n",
      "min         71.000000\n",
      "25%        353.250000\n",
      "50%        555.500000\n",
      "75%       1077.000000\n",
      "max      12844.000000\n",
      "Name: desc_len_chars, dtype: float64\n",
      "count     358.000000\n",
      "mean      167.729050\n",
      "std       216.878277\n",
      "min        15.000000\n",
      "25%        61.250000\n",
      "50%        98.000000\n",
      "75%       187.750000\n",
      "max      2199.000000\n",
      "Name: desc_len_words, dtype: float64\n"
     ]
    }
   ],
   "source": [
    "df['desc_len_chars'] = df['Description'].fillna(\"\").str.len()\n",
    "df['desc_len_words'] = df['Description'].fillna(\"\").str.split().str.len()\n",
    "\n",
    "print(df['desc_len_chars'].describe())\n",
    "print(df['desc_len_words'].describe())"
   ]
  },
  {
   "cell_type": "code",
   "execution_count": 10,
   "id": "6b251980",
   "metadata": {
    "ExecuteTime": {
     "end_time": "2025-08-08T15:39:57.148312Z",
     "start_time": "2025-08-08T15:39:57.137995Z"
    }
   },
   "outputs": [
    {
     "data": {
      "text/html": [
       "<div>\n",
       "<style scoped>\n",
       "    .dataframe tbody tr th:only-of-type {\n",
       "        vertical-align: middle;\n",
       "    }\n",
       "\n",
       "    .dataframe tbody tr th {\n",
       "        vertical-align: top;\n",
       "    }\n",
       "\n",
       "    .dataframe thead th {\n",
       "        text-align: right;\n",
       "    }\n",
       "</style>\n",
       "<table border=\"1\" class=\"dataframe\">\n",
       "  <thead>\n",
       "    <tr style=\"text-align: right;\">\n",
       "      <th></th>\n",
       "      <th>Chapter</th>\n",
       "      <th>Section</th>\n",
       "      <th>Section_name</th>\n",
       "      <th>desc_len_words</th>\n",
       "    </tr>\n",
       "  </thead>\n",
       "  <tbody>\n",
       "    <tr>\n",
       "      <th>1</th>\n",
       "      <td>1</td>\n",
       "      <td>2</td>\n",
       "      <td>Definitions.</td>\n",
       "      <td>2199</td>\n",
       "    </tr>\n",
       "    <tr>\n",
       "      <th>355</th>\n",
       "      <td>19</td>\n",
       "      <td>356</td>\n",
       "      <td>Defamation</td>\n",
       "      <td>1543</td>\n",
       "    </tr>\n",
       "    <tr>\n",
       "      <th>334</th>\n",
       "      <td>18</td>\n",
       "      <td>335</td>\n",
       "      <td>Making a false document.</td>\n",
       "      <td>1318</td>\n",
       "    </tr>\n",
       "    <tr>\n",
       "      <th>100</th>\n",
       "      <td>6</td>\n",
       "      <td>101</td>\n",
       "      <td>Murder.</td>\n",
       "      <td>1177</td>\n",
       "    </tr>\n",
       "    <tr>\n",
       "      <th>302</th>\n",
       "      <td>17</td>\n",
       "      <td>303</td>\n",
       "      <td>Theft</td>\n",
       "      <td>1104</td>\n",
       "    </tr>\n",
       "    <tr>\n",
       "      <th>2</th>\n",
       "      <td>1</td>\n",
       "      <td>3</td>\n",
       "      <td>General explanations</td>\n",
       "      <td>857</td>\n",
       "    </tr>\n",
       "    <tr>\n",
       "      <th>315</th>\n",
       "      <td>17</td>\n",
       "      <td>316</td>\n",
       "      <td>Criminal breach of trust.</td>\n",
       "      <td>856</td>\n",
       "    </tr>\n",
       "    <tr>\n",
       "      <th>112</th>\n",
       "      <td>6</td>\n",
       "      <td>113</td>\n",
       "      <td>Terrorist act.</td>\n",
       "      <td>786</td>\n",
       "    </tr>\n",
       "    <tr>\n",
       "      <th>45</th>\n",
       "      <td>4</td>\n",
       "      <td>46</td>\n",
       "      <td>Abettor.</td>\n",
       "      <td>747</td>\n",
       "    </tr>\n",
       "    <tr>\n",
       "      <th>313</th>\n",
       "      <td>17</td>\n",
       "      <td>314</td>\n",
       "      <td>Dishonest misappropriation of property.</td>\n",
       "      <td>734</td>\n",
       "    </tr>\n",
       "  </tbody>\n",
       "</table>\n",
       "</div>"
      ],
      "text/plain": [
       "     Chapter  Section                             Section_name  desc_len_words\n",
       "1          1        2                             Definitions.            2199\n",
       "355       19      356                               Defamation            1543\n",
       "334       18      335                 Making a false document.            1318\n",
       "100        6      101                                  Murder.            1177\n",
       "302       17      303                                    Theft            1104\n",
       "2          1        3                     General explanations             857\n",
       "315       17      316                Criminal breach of trust.             856\n",
       "112        6      113                           Terrorist act.             786\n",
       "45         4       46                                 Abettor.             747\n",
       "313       17      314  Dishonest misappropriation of property.             734"
      ]
     },
     "execution_count": 10,
     "metadata": {},
     "output_type": "execute_result"
    }
   ],
   "source": [
    "# Example: top 10 longest sections\n",
    "df.sort_values('desc_len_words', ascending=False).head(\n",
    "    10)[['Chapter', 'Section', 'Section_name', 'desc_len_words']]"
   ]
  },
  {
   "cell_type": "markdown",
   "id": "b403a4bd",
   "metadata": {},
   "source": [
    "## Class distribution (sections per chapter)"
   ]
  },
  {
   "cell_type": "code",
   "execution_count": 11,
   "id": "63a0fd7a",
   "metadata": {
    "ExecuteTime": {
     "end_time": "2025-08-08T15:39:57.159179Z",
     "start_time": "2025-08-08T15:39:57.149977Z"
    }
   },
   "outputs": [
    {
     "data": {
      "text/html": [
       "<div>\n",
       "<style scoped>\n",
       "    .dataframe tbody tr th:only-of-type {\n",
       "        vertical-align: middle;\n",
       "    }\n",
       "\n",
       "    .dataframe tbody tr th {\n",
       "        vertical-align: top;\n",
       "    }\n",
       "\n",
       "    .dataframe thead th {\n",
       "        text-align: right;\n",
       "    }\n",
       "</style>\n",
       "<table border=\"1\" class=\"dataframe\">\n",
       "  <thead>\n",
       "    <tr style=\"text-align: right;\">\n",
       "      <th></th>\n",
       "      <th>Chapter</th>\n",
       "      <th>Chapter_short</th>\n",
       "      <th>sections_count</th>\n",
       "    </tr>\n",
       "  </thead>\n",
       "  <tbody>\n",
       "    <tr>\n",
       "      <th>6</th>\n",
       "      <td>6</td>\n",
       "      <td>Offences_HumanBody</td>\n",
       "      <td>47</td>\n",
       "    </tr>\n",
       "    <tr>\n",
       "      <th>14</th>\n",
       "      <td>14</td>\n",
       "      <td>FalseEvidence_PublicJustice</td>\n",
       "      <td>43</td>\n",
       "    </tr>\n",
       "    <tr>\n",
       "      <th>5</th>\n",
       "      <td>5</td>\n",
       "      <td>Offences_WomenChild</td>\n",
       "      <td>37</td>\n",
       "    </tr>\n",
       "    <tr>\n",
       "      <th>17</th>\n",
       "      <td>17</td>\n",
       "      <td>Offences_Property</td>\n",
       "      <td>32</td>\n",
       "    </tr>\n",
       "    <tr>\n",
       "      <th>15</th>\n",
       "      <td>15</td>\n",
       "      <td>Offences_PublicHealthSafety</td>\n",
       "      <td>28</td>\n",
       "    </tr>\n",
       "    <tr>\n",
       "      <th>13</th>\n",
       "      <td>13</td>\n",
       "      <td>Contempt_PublicServants</td>\n",
       "      <td>21</td>\n",
       "    </tr>\n",
       "    <tr>\n",
       "      <th>2</th>\n",
       "      <td>3</td>\n",
       "      <td>General_Exceptions</td>\n",
       "      <td>20</td>\n",
       "    </tr>\n",
       "    <tr>\n",
       "      <th>4</th>\n",
       "      <td>4</td>\n",
       "      <td>Abetment_Conspiracy_Attempt</td>\n",
       "      <td>18</td>\n",
       "    </tr>\n",
       "    <tr>\n",
       "      <th>7</th>\n",
       "      <td>7</td>\n",
       "      <td>Offences_State</td>\n",
       "      <td>12</td>\n",
       "    </tr>\n",
       "    <tr>\n",
       "      <th>10</th>\n",
       "      <td>10</td>\n",
       "      <td>Offences_Currency</td>\n",
       "      <td>11</td>\n",
       "    </tr>\n",
       "    <tr>\n",
       "      <th>3</th>\n",
       "      <td>3</td>\n",
       "      <td>Right_PrivateDefence</td>\n",
       "      <td>11</td>\n",
       "    </tr>\n",
       "    <tr>\n",
       "      <th>8</th>\n",
       "      <td>8</td>\n",
       "      <td>Offences_ArmedForces</td>\n",
       "      <td>10</td>\n",
       "    </tr>\n",
       "    <tr>\n",
       "      <th>18</th>\n",
       "      <td>18</td>\n",
       "      <td>Offences_Documents_PropertyMarks</td>\n",
       "      <td>10</td>\n",
       "    </tr>\n",
       "    <tr>\n",
       "      <th>1</th>\n",
       "      <td>2</td>\n",
       "      <td>Punishments</td>\n",
       "      <td>10</td>\n",
       "    </tr>\n",
       "    <tr>\n",
       "      <th>9</th>\n",
       "      <td>9</td>\n",
       "      <td>Offences_Elections</td>\n",
       "      <td>9</td>\n",
       "    </tr>\n",
       "    <tr>\n",
       "      <th>11</th>\n",
       "      <td>11</td>\n",
       "      <td>Offences_PublicTranquillity</td>\n",
       "      <td>9</td>\n",
       "    </tr>\n",
       "    <tr>\n",
       "      <th>12</th>\n",
       "      <td>12</td>\n",
       "      <td>Offences_PublicServants</td>\n",
       "      <td>8</td>\n",
       "    </tr>\n",
       "    <tr>\n",
       "      <th>19</th>\n",
       "      <td>18</td>\n",
       "      <td>Property_Marks</td>\n",
       "      <td>6</td>\n",
       "    </tr>\n",
       "    <tr>\n",
       "      <th>16</th>\n",
       "      <td>16</td>\n",
       "      <td>Offences_Religion</td>\n",
       "      <td>5</td>\n",
       "    </tr>\n",
       "    <tr>\n",
       "      <th>21</th>\n",
       "      <td>19</td>\n",
       "      <td>CriminalIntimidation_Defamation</td>\n",
       "      <td>5</td>\n",
       "    </tr>\n",
       "  </tbody>\n",
       "</table>\n",
       "</div>"
      ],
      "text/plain": [
       "    Chapter                     Chapter_short  sections_count\n",
       "6         6                Offences_HumanBody              47\n",
       "14       14       FalseEvidence_PublicJustice              43\n",
       "5         5               Offences_WomenChild              37\n",
       "17       17                 Offences_Property              32\n",
       "15       15       Offences_PublicHealthSafety              28\n",
       "13       13           Contempt_PublicServants              21\n",
       "2         3                General_Exceptions              20\n",
       "4         4       Abetment_Conspiracy_Attempt              18\n",
       "7         7                    Offences_State              12\n",
       "10       10                 Offences_Currency              11\n",
       "3         3              Right_PrivateDefence              11\n",
       "8         8              Offences_ArmedForces              10\n",
       "18       18  Offences_Documents_PropertyMarks              10\n",
       "1         2                       Punishments              10\n",
       "9         9                Offences_Elections               9\n",
       "11       11       Offences_PublicTranquillity               9\n",
       "12       12           Offences_PublicServants               8\n",
       "19       18                    Property_Marks               6\n",
       "16       16                 Offences_Religion               5\n",
       "21       19   CriminalIntimidation_Defamation               5"
      ]
     },
     "execution_count": 11,
     "metadata": {},
     "output_type": "execute_result"
    }
   ],
   "source": [
    "counts = df.groupby(['Chapter', 'Chapter_short'])[\n",
    "    'Section'].nunique().reset_index(name='sections_count')\n",
    "counts = counts.sort_values('sections_count', ascending=False)\n",
    "counts.head(20)\n",
    "# plot if you want"
   ]
  },
  {
   "cell_type": "markdown",
   "id": "25090ffc",
   "metadata": {},
   "source": [
    "## Top tokens / n-grams (quick look)"
   ]
  },
  {
   "cell_type": "code",
   "execution_count": 12,
   "id": "8638c61c",
   "metadata": {
    "ExecuteTime": {
     "end_time": "2025-08-08T15:39:57.575848Z",
     "start_time": "2025-08-08T15:39:57.160647Z"
    }
   },
   "outputs": [
    {
     "data": {
      "text/plain": [
       "[('shall', 838),\n",
       " ('person', 688),\n",
       " ('imprisonment', 615),\n",
       " ('extend', 510),\n",
       " ('fine', 469),\n",
       " ('term', 438),\n",
       " ('punished', 431),\n",
       " ('offence', 422),\n",
       " ('years', 380),\n",
       " ('description', 321),\n",
       " ('section', 283),\n",
       " ('liable', 253),\n",
       " ('act', 228),\n",
       " ('public', 218),\n",
       " ('cause', 218),\n",
       " ('committed', 203),\n",
       " ('death', 198),\n",
       " ('property', 193),\n",
       " ('likely', 151),\n",
       " ('servant', 149),\n",
       " ('life', 148),\n",
       " ('commits', 137),\n",
       " ('knowing', 135),\n",
       " ('causes', 121),\n",
       " ('explanation', 121),\n",
       " ('hurt', 114),\n",
       " ('rupees', 112),\n",
       " ('law', 106),\n",
       " ('means', 104),\n",
       " ('intending', 101)]"
      ]
     },
     "execution_count": 12,
     "metadata": {},
     "output_type": "execute_result"
    }
   ],
   "source": [
    "from sklearn.feature_extraction.text import CountVectorizer\n",
    "corpus = df['Description'].fillna(\"\").astype(str)\n",
    "\n",
    "vect = CountVectorizer(stop_words='english',\n",
    "                       ngram_range=(1, 1), max_features=5000)\n",
    "X = vect.fit_transform(corpus)\n",
    "freq = X.sum(axis=0).A1\n",
    "top_idx = freq.argsort()[::-1][:30]\n",
    "top_words = [(vect.get_feature_names_out()[i], freq[i]) for i in top_idx]\n",
    "top_words"
   ]
  },
  {
   "cell_type": "markdown",
   "id": "92d7a1ff",
   "metadata": {},
   "source": [
    "## Legal-specific checks (regex + NER ideas)"
   ]
  },
  {
   "cell_type": "code",
   "execution_count": 13,
   "id": "6aa49847",
   "metadata": {
    "ExecuteTime": {
     "end_time": "2025-08-08T15:39:57.597449Z",
     "start_time": "2025-08-08T15:39:57.577130Z"
    }
   },
   "outputs": [
    {
     "name": "stdout",
     "output_type": "stream",
     "text": [
      "0 sections mention other sections\n"
     ]
    }
   ],
   "source": [
    "import re\n",
    "pattern = re.compile(r'\\bSection\\s*\\d+|\\d+\\([a-z0-9]+\\)')\n",
    "df['has_crossref'] = df['Description'].astype(\n",
    "    str).apply(lambda t: bool(pattern.search(t)))\n",
    "print(df['has_crossref'].sum(), \"sections mention other sections\")"
   ]
  },
  {
   "cell_type": "markdown",
   "id": "d52a1651",
   "metadata": {},
   "source": [
    "## Sampling for manual review"
   ]
  },
  {
   "cell_type": "code",
   "execution_count": 14,
   "id": "6673cf97",
   "metadata": {
    "ExecuteTime": {
     "end_time": "2025-08-08T15:39:57.618940Z",
     "start_time": "2025-08-08T15:39:57.598667Z"
    }
   },
   "outputs": [
    {
     "name": "stderr",
     "output_type": "stream",
     "text": [
      "/tmp/ipykernel_7221/3510399937.py:2: DeprecationWarning: DataFrameGroupBy.apply operated on the grouping columns. This behavior is deprecated, and in a future version of pandas the grouping columns will be excluded from the operation. Either pass `include_groups=False` to exclude the groupings or explicitly select the grouping columns after groupby to silence this warning.\n",
      "  sample = df.groupby('Chapter').apply(lambda d: d.sample(\n"
     ]
    },
    {
     "data": {
      "text/html": [
       "<div>\n",
       "<style scoped>\n",
       "    .dataframe tbody tr th:only-of-type {\n",
       "        vertical-align: middle;\n",
       "    }\n",
       "\n",
       "    .dataframe tbody tr th {\n",
       "        vertical-align: top;\n",
       "    }\n",
       "\n",
       "    .dataframe thead th {\n",
       "        text-align: right;\n",
       "    }\n",
       "</style>\n",
       "<table border=\"1\" class=\"dataframe\">\n",
       "  <thead>\n",
       "    <tr style=\"text-align: right;\">\n",
       "      <th></th>\n",
       "      <th>Chapter</th>\n",
       "      <th>Chapter_name</th>\n",
       "      <th>Chapter_subtype</th>\n",
       "      <th>Section</th>\n",
       "      <th>Section_name</th>\n",
       "      <th>Description</th>\n",
       "      <th>Chapter_short</th>\n",
       "      <th>desc_len_chars</th>\n",
       "      <th>desc_len_words</th>\n",
       "      <th>has_crossref</th>\n",
       "    </tr>\n",
       "  </thead>\n",
       "  <tbody>\n",
       "    <tr>\n",
       "      <th>0</th>\n",
       "      <td>1</td>\n",
       "      <td>Preliminary</td>\n",
       "      <td>Preliminary</td>\n",
       "      <td>1</td>\n",
       "      <td>Short title, commencement and application</td>\n",
       "      <td>(1) This Act may be called the Bharatiya Nyaya...</td>\n",
       "      <td>Preliminary</td>\n",
       "      <td>1680</td>\n",
       "      <td>290</td>\n",
       "      <td>False</td>\n",
       "    </tr>\n",
       "    <tr>\n",
       "      <th>1</th>\n",
       "      <td>2</td>\n",
       "      <td>Of punishments</td>\n",
       "      <td>Of punishments</td>\n",
       "      <td>12</td>\n",
       "      <td>Limit of solitary confinement.</td>\n",
       "      <td>In executing a sentence of solitary confinemen...</td>\n",
       "      <td>Punishments</td>\n",
       "      <td>480</td>\n",
       "      <td>75</td>\n",
       "      <td>False</td>\n",
       "    </tr>\n",
       "    <tr>\n",
       "      <th>2</th>\n",
       "      <td>3</td>\n",
       "      <td>Of right of private defence</td>\n",
       "      <td>Of right of private defence</td>\n",
       "      <td>41</td>\n",
       "      <td>When right of private defence of property exte...</td>\n",
       "      <td>The right of private defence of property exten...</td>\n",
       "      <td>Right_PrivateDefence</td>\n",
       "      <td>830</td>\n",
       "      <td>135</td>\n",
       "      <td>False</td>\n",
       "    </tr>\n",
       "    <tr>\n",
       "      <th>3</th>\n",
       "      <td>4</td>\n",
       "      <td>OF ABETMENT, CRIMINAL CONSPIRACY AND ATTEMPT</td>\n",
       "      <td>of abetment</td>\n",
       "      <td>45</td>\n",
       "      <td>Abetment of a thing.</td>\n",
       "      <td>A person abets the doing of a thing, who—\\r\\n(...</td>\n",
       "      <td>Abetment_Conspiracy_Attempt</td>\n",
       "      <td>1171</td>\n",
       "      <td>212</td>\n",
       "      <td>False</td>\n",
       "    </tr>\n",
       "    <tr>\n",
       "      <th>4</th>\n",
       "      <td>5</td>\n",
       "      <td>OF OFFENCES AGAINST WOMAN AND CHILD</td>\n",
       "      <td>Of offences relating to marriage</td>\n",
       "      <td>80</td>\n",
       "      <td>Dowry death.</td>\n",
       "      <td>(1) Where the death of a woman is caused by an...</td>\n",
       "      <td>Offences_WomenChild</td>\n",
       "      <td>773</td>\n",
       "      <td>136</td>\n",
       "      <td>False</td>\n",
       "    </tr>\n",
       "  </tbody>\n",
       "</table>\n",
       "</div>"
      ],
      "text/plain": [
       "   Chapter                                  Chapter_name  \\\n",
       "0        1                                   Preliminary   \n",
       "1        2                                Of punishments   \n",
       "2        3                   Of right of private defence   \n",
       "3        4  OF ABETMENT, CRIMINAL CONSPIRACY AND ATTEMPT   \n",
       "4        5           OF OFFENCES AGAINST WOMAN AND CHILD   \n",
       "\n",
       "                    Chapter_subtype  Section  \\\n",
       "0                       Preliminary        1   \n",
       "1                    Of punishments       12   \n",
       "2       Of right of private defence       41   \n",
       "3                       of abetment       45   \n",
       "4  Of offences relating to marriage       80   \n",
       "\n",
       "                                        Section_name  \\\n",
       "0          Short title, commencement and application   \n",
       "1                     Limit of solitary confinement.   \n",
       "2  When right of private defence of property exte...   \n",
       "3                               Abetment of a thing.   \n",
       "4                                       Dowry death.   \n",
       "\n",
       "                                         Description  \\\n",
       "0  (1) This Act may be called the Bharatiya Nyaya...   \n",
       "1  In executing a sentence of solitary confinemen...   \n",
       "2  The right of private defence of property exten...   \n",
       "3  A person abets the doing of a thing, who—\\r\\n(...   \n",
       "4  (1) Where the death of a woman is caused by an...   \n",
       "\n",
       "                 Chapter_short  desc_len_chars  desc_len_words  has_crossref  \n",
       "0                  Preliminary            1680             290         False  \n",
       "1                  Punishments             480              75         False  \n",
       "2         Right_PrivateDefence             830             135         False  \n",
       "3  Abetment_Conspiracy_Attempt            1171             212         False  \n",
       "4          Offences_WomenChild             773             136         False  "
      ]
     },
     "execution_count": 14,
     "metadata": {},
     "output_type": "execute_result"
    }
   ],
   "source": [
    "# stratified sample: one section per chapter (if chapters many, sample n)\n",
    "sample = df.groupby('Chapter').apply(lambda d: d.sample(\n",
    "    n=1, random_state=42)).reset_index(drop=True)\n",
    "sample.head()"
   ]
  },
  {
   "cell_type": "markdown",
   "id": "4490dae8",
   "metadata": {},
   "source": [
    "## Chapter Distribution Plot"
   ]
  },
  {
   "cell_type": "code",
   "execution_count": 16,
   "id": "fe66e9a4",
   "metadata": {
    "ExecuteTime": {
     "end_time": "2025-08-08T15:41:47.979290Z",
     "start_time": "2025-08-08T15:41:47.961870Z"
    }
   },
   "outputs": [
    {
     "data": {
      "text/plain": [
       "Chapter_short\n",
       "Offences_HumanBody                  47\n",
       "FalseEvidence_PublicJustice         43\n",
       "Offences_WomenChild                 37\n",
       "Offences_Property                   32\n",
       "Offences_PublicHealthSafety         28\n",
       "Contempt_PublicServants             21\n",
       "General_Exceptions                  20\n",
       "Abetment_Conspiracy_Attempt         18\n",
       "Offences_State                      12\n",
       "Offences_Currency                   11\n",
       "Right_PrivateDefence                11\n",
       "Offences_Documents_PropertyMarks    10\n",
       "Offences_ArmedForces                10\n",
       "Punishments                         10\n",
       "Offences_Elections                   9\n",
       "Offences_PublicTranquillity          9\n",
       "Offences_PublicServants              8\n",
       "Property_Marks                       6\n",
       "Offences_Religion                    5\n",
       "CriminalIntimidation_Defamation      5\n",
       "Preliminary                          3\n",
       "Breach_Contract_HelplessPerson       1\n",
       "Defamation                           1\n",
       "Repeal_Savings                       1\n",
       "Name: Section, dtype: int64"
      ]
     },
     "execution_count": 16,
     "metadata": {},
     "output_type": "execute_result"
    }
   ],
   "source": [
    "# Count sections per chapter\n",
    "chapter_counts = df.groupby('Chapter_short')[\n",
    "    'Section'].count().sort_values(ascending=False)\n",
    "chapter_counts"
   ]
  },
  {
   "cell_type": "code",
   "execution_count": 17,
   "id": "0df28d0e",
   "metadata": {
    "ExecuteTime": {
     "end_time": "2025-08-08T15:42:11.346615Z",
     "start_time": "2025-08-08T15:42:10.565198Z"
    }
   },
   "outputs": [
    {
     "data": {
      "image/png": "[encoded data removed]",
      "text/plain": [
       "<Figure size 720x432 with 1 Axes>"
      ]
     },
     "metadata": {
      "needs_background": "light"
     },
     "output_type": "display_data"
    }
   ],
   "source": [
    "import matplotlib.pyplot as plt\n",
    "\n",
    "plt.figure(figsize=(10, 6))\n",
    "chapter_counts.plot(kind='bar')\n",
    "plt.title(\"Number of Sections per Chapter\", fontsize=14)\n",
    "plt.ylabel(\"Section Count\")\n",
    "plt.xticks(rotation=75, ha='right')\n",
    "plt.tight_layout()\n",
    "plt.show()"
   ]
  },
  {
   "cell_type": "markdown",
   "id": "e937b925",
   "metadata": {},
   "source": [
    "## Chapter vs. Chapter_subtype"
   ]
  },
  {
   "cell_type": "code",
   "execution_count": 18,
   "id": "f4fa55c5",
   "metadata": {
    "ExecuteTime": {
     "end_time": "2025-08-08T15:42:41.006572Z",
     "start_time": "2025-08-08T15:42:40.988689Z"
    }
   },
   "outputs": [
    {
     "data": {
      "text/html": [
       "<div>\n",
       "<style scoped>\n",
       "    .dataframe tbody tr th:only-of-type {\n",
       "        vertical-align: middle;\n",
       "    }\n",
       "\n",
       "    .dataframe tbody tr th {\n",
       "        vertical-align: top;\n",
       "    }\n",
       "\n",
       "    .dataframe thead th {\n",
       "        text-align: right;\n",
       "    }\n",
       "</style>\n",
       "<table border=\"1\" class=\"dataframe\">\n",
       "  <thead>\n",
       "    <tr style=\"text-align: right;\">\n",
       "      <th></th>\n",
       "      <th>Chapter</th>\n",
       "      <th>Chapter_short</th>\n",
       "      <th>Chapter_subtype</th>\n",
       "    </tr>\n",
       "  </thead>\n",
       "  <tbody>\n",
       "    <tr>\n",
       "      <th>0</th>\n",
       "      <td>1</td>\n",
       "      <td>Preliminary</td>\n",
       "      <td>Preliminary</td>\n",
       "    </tr>\n",
       "    <tr>\n",
       "      <th>3</th>\n",
       "      <td>2</td>\n",
       "      <td>Punishments</td>\n",
       "      <td>Of punishments</td>\n",
       "    </tr>\n",
       "    <tr>\n",
       "      <th>13</th>\n",
       "      <td>3</td>\n",
       "      <td>General_Exceptions</td>\n",
       "      <td>General exceptions</td>\n",
       "    </tr>\n",
       "    <tr>\n",
       "      <th>33</th>\n",
       "      <td>3</td>\n",
       "      <td>Right_PrivateDefence</td>\n",
       "      <td>Of right of private defence</td>\n",
       "    </tr>\n",
       "    <tr>\n",
       "      <th>61</th>\n",
       "      <td>4</td>\n",
       "      <td>Abetment_Conspiracy_Attempt</td>\n",
       "      <td>Of attempt</td>\n",
       "    </tr>\n",
       "    <tr>\n",
       "      <th>60</th>\n",
       "      <td>4</td>\n",
       "      <td>Abetment_Conspiracy_Attempt</td>\n",
       "      <td>Of criminal conspiracy</td>\n",
       "    </tr>\n",
       "    <tr>\n",
       "      <th>44</th>\n",
       "      <td>4</td>\n",
       "      <td>Abetment_Conspiracy_Attempt</td>\n",
       "      <td>of abetment</td>\n",
       "    </tr>\n",
       "    <tr>\n",
       "      <th>87</th>\n",
       "      <td>5</td>\n",
       "      <td>Offences_WomenChild</td>\n",
       "      <td>Of causing miscarriage, etc</td>\n",
       "    </tr>\n",
       "    <tr>\n",
       "      <th>73</th>\n",
       "      <td>5</td>\n",
       "      <td>Offences_WomenChild</td>\n",
       "      <td>Of criminal force and assault against woman</td>\n",
       "    </tr>\n",
       "    <tr>\n",
       "      <th>92</th>\n",
       "      <td>5</td>\n",
       "      <td>Offences_WomenChild</td>\n",
       "      <td>Of offences against child</td>\n",
       "    </tr>\n",
       "    <tr>\n",
       "      <th>79</th>\n",
       "      <td>5</td>\n",
       "      <td>Offences_WomenChild</td>\n",
       "      <td>Of offences relating to marriage</td>\n",
       "    </tr>\n",
       "    <tr>\n",
       "      <th>62</th>\n",
       "      <td>5</td>\n",
       "      <td>Offences_WomenChild</td>\n",
       "      <td>Of sexual offences</td>\n",
       "    </tr>\n",
       "    <tr>\n",
       "      <th>127</th>\n",
       "      <td>6</td>\n",
       "      <td>Offences_HumanBody</td>\n",
       "      <td>Of criminal force and assault</td>\n",
       "    </tr>\n",
       "    <tr>\n",
       "      <th>113</th>\n",
       "      <td>6</td>\n",
       "      <td>Offences_HumanBody</td>\n",
       "      <td>Of hurt</td>\n",
       "    </tr>\n",
       "    <tr>\n",
       "      <th>136</th>\n",
       "      <td>6</td>\n",
       "      <td>Offences_HumanBody</td>\n",
       "      <td>Of kidnapping, abduction, slavery and forced l...</td>\n",
       "    </tr>\n",
       "    <tr>\n",
       "      <th>99</th>\n",
       "      <td>6</td>\n",
       "      <td>Offences_HumanBody</td>\n",
       "      <td>Of offences affecting life</td>\n",
       "    </tr>\n",
       "    <tr>\n",
       "      <th>125</th>\n",
       "      <td>6</td>\n",
       "      <td>Offences_HumanBody</td>\n",
       "      <td>Of wrongful restraint and wrongful confinement</td>\n",
       "    </tr>\n",
       "    <tr>\n",
       "      <th>146</th>\n",
       "      <td>7</td>\n",
       "      <td>Offences_State</td>\n",
       "      <td>OF OFFENCES AGAINST THE STATE</td>\n",
       "    </tr>\n",
       "    <tr>\n",
       "      <th>158</th>\n",
       "      <td>8</td>\n",
       "      <td>Offences_ArmedForces</td>\n",
       "      <td>OF OFFENCES RELATING TO THE ARMY, NAVY AND AIR...</td>\n",
       "    </tr>\n",
       "    <tr>\n",
       "      <th>168</th>\n",
       "      <td>9</td>\n",
       "      <td>Offences_Elections</td>\n",
       "      <td>OF OFFENCES RELATING TO ELECTIONS</td>\n",
       "    </tr>\n",
       "    <tr>\n",
       "      <th>177</th>\n",
       "      <td>10</td>\n",
       "      <td>Offences_Currency</td>\n",
       "      <td>OF OFFENCES RELATING TO COIN, CURRENCY-NOTES, ...</td>\n",
       "    </tr>\n",
       "    <tr>\n",
       "      <th>188</th>\n",
       "      <td>11</td>\n",
       "      <td>Offences_PublicTranquillity</td>\n",
       "      <td>OF OFFENCES AGAINST THE PUBLIC TRANQUILLITY</td>\n",
       "    </tr>\n",
       "    <tr>\n",
       "      <th>197</th>\n",
       "      <td>12</td>\n",
       "      <td>Offences_PublicServants</td>\n",
       "      <td>OF OFFENCES BY OR RELATING TO PUBLIC SERVANTS</td>\n",
       "    </tr>\n",
       "    <tr>\n",
       "      <th>205</th>\n",
       "      <td>13</td>\n",
       "      <td>Contempt_PublicServants</td>\n",
       "      <td>OF CONTEMPTS OF THE LAWFUL AUTHORITY OF PUBLIC...</td>\n",
       "    </tr>\n",
       "    <tr>\n",
       "      <th>226</th>\n",
       "      <td>14</td>\n",
       "      <td>FalseEvidence_PublicJustice</td>\n",
       "      <td>OF FALSE EVIDENCE AND OFFENCES AGAINST PUBLIC ...</td>\n",
       "    </tr>\n",
       "    <tr>\n",
       "      <th>269</th>\n",
       "      <td>15</td>\n",
       "      <td>Offences_PublicHealthSafety</td>\n",
       "      <td>OF OFFENCES AFFECTING THE PUBLIC HEALTH, SAFET...</td>\n",
       "    </tr>\n",
       "    <tr>\n",
       "      <th>297</th>\n",
       "      <td>16</td>\n",
       "      <td>Offences_Religion</td>\n",
       "      <td>OF OFFENCES RELATING TO RELIGION</td>\n",
       "    </tr>\n",
       "    <tr>\n",
       "      <th>317</th>\n",
       "      <td>17</td>\n",
       "      <td>Offences_Property</td>\n",
       "      <td>Of cheating</td>\n",
       "    </tr>\n",
       "    <tr>\n",
       "      <th>315</th>\n",
       "      <td>17</td>\n",
       "      <td>Offences_Property</td>\n",
       "      <td>Of criminal breach of trust</td>\n",
       "    </tr>\n",
       "    <tr>\n",
       "      <th>313</th>\n",
       "      <td>17</td>\n",
       "      <td>Offences_Property</td>\n",
       "      <td>Of criminal misappropriation of property</td>\n",
       "    </tr>\n",
       "    <tr>\n",
       "      <th>328</th>\n",
       "      <td>17</td>\n",
       "      <td>Offences_Property</td>\n",
       "      <td>Of criminal trespass</td>\n",
       "    </tr>\n",
       "    <tr>\n",
       "      <th>307</th>\n",
       "      <td>17</td>\n",
       "      <td>Offences_Property</td>\n",
       "      <td>Of extortion</td>\n",
       "    </tr>\n",
       "    <tr>\n",
       "      <th>319</th>\n",
       "      <td>17</td>\n",
       "      <td>Offences_Property</td>\n",
       "      <td>Of fraudulent deeds and dispositions of property</td>\n",
       "    </tr>\n",
       "    <tr>\n",
       "      <th>323</th>\n",
       "      <td>17</td>\n",
       "      <td>Offences_Property</td>\n",
       "      <td>Of mischief</td>\n",
       "    </tr>\n",
       "    <tr>\n",
       "      <th>316</th>\n",
       "      <td>17</td>\n",
       "      <td>Offences_Property</td>\n",
       "      <td>Of receiving stolen property</td>\n",
       "    </tr>\n",
       "    <tr>\n",
       "      <th>308</th>\n",
       "      <td>17</td>\n",
       "      <td>Offences_Property</td>\n",
       "      <td>Of robbery and dacoity</td>\n",
       "    </tr>\n",
       "    <tr>\n",
       "      <th>302</th>\n",
       "      <td>17</td>\n",
       "      <td>Offences_Property</td>\n",
       "      <td>Of theft</td>\n",
       "    </tr>\n",
       "    <tr>\n",
       "      <th>334</th>\n",
       "      <td>18</td>\n",
       "      <td>Offences_Documents_PropertyMarks</td>\n",
       "      <td>OF OFFENCES RELATING TO DOCUMENTS AND TO PROPE...</td>\n",
       "    </tr>\n",
       "    <tr>\n",
       "      <th>344</th>\n",
       "      <td>18</td>\n",
       "      <td>Property_Marks</td>\n",
       "      <td>Of property marks</td>\n",
       "    </tr>\n",
       "    <tr>\n",
       "      <th>350</th>\n",
       "      <td>19</td>\n",
       "      <td>CriminalIntimidation_Defamation</td>\n",
       "      <td>OF CRIMINAL INTIMIDATION, INSULT, ANNOYANCE, D...</td>\n",
       "    </tr>\n",
       "    <tr>\n",
       "      <th>356</th>\n",
       "      <td>19</td>\n",
       "      <td>Breach_Contract_HelplessPerson</td>\n",
       "      <td>Of breach of contract to attend on and supply ...</td>\n",
       "    </tr>\n",
       "    <tr>\n",
       "      <th>355</th>\n",
       "      <td>19</td>\n",
       "      <td>Defamation</td>\n",
       "      <td>Of defamation</td>\n",
       "    </tr>\n",
       "    <tr>\n",
       "      <th>357</th>\n",
       "      <td>20</td>\n",
       "      <td>Repeal_Savings</td>\n",
       "      <td>REPEAL AND SAVINGS</td>\n",
       "    </tr>\n",
       "  </tbody>\n",
       "</table>\n",
       "</div>"
      ],
      "text/plain": [
       "     Chapter                     Chapter_short  \\\n",
       "0          1                       Preliminary   \n",
       "3          2                       Punishments   \n",
       "13         3                General_Exceptions   \n",
       "33         3              Right_PrivateDefence   \n",
       "61         4       Abetment_Conspiracy_Attempt   \n",
       "60         4       Abetment_Conspiracy_Attempt   \n",
       "44         4       Abetment_Conspiracy_Attempt   \n",
       "87         5               Offences_WomenChild   \n",
       "73         5               Offences_WomenChild   \n",
       "92         5               Offences_WomenChild   \n",
       "79         5               Offences_WomenChild   \n",
       "62         5               Offences_WomenChild   \n",
       "127        6                Offences_HumanBody   \n",
       "113        6                Offences_HumanBody   \n",
       "136        6                Offences_HumanBody   \n",
       "99         6                Offences_HumanBody   \n",
       "125        6                Offences_HumanBody   \n",
       "146        7                    Offences_State   \n",
       "158        8              Offences_ArmedForces   \n",
       "168        9                Offences_Elections   \n",
       "177       10                 Offences_Currency   \n",
       "188       11       Offences_PublicTranquillity   \n",
       "197       12           Offences_PublicServants   \n",
       "205       13           Contempt_PublicServants   \n",
       "226       14       FalseEvidence_PublicJustice   \n",
       "269       15       Offences_PublicHealthSafety   \n",
       "297       16                 Offences_Religion   \n",
       "317       17                 Offences_Property   \n",
       "315       17                 Offences_Property   \n",
       "313       17                 Offences_Property   \n",
       "328       17                 Offences_Property   \n",
       "307       17                 Offences_Property   \n",
       "319       17                 Offences_Property   \n",
       "323       17                 Offences_Property   \n",
       "316       17                 Offences_Property   \n",
       "308       17                 Offences_Property   \n",
       "302       17                 Offences_Property   \n",
       "334       18  Offences_Documents_PropertyMarks   \n",
       "344       18                    Property_Marks   \n",
       "350       19   CriminalIntimidation_Defamation   \n",
       "356       19    Breach_Contract_HelplessPerson   \n",
       "355       19                        Defamation   \n",
       "357       20                    Repeal_Savings   \n",
       "\n",
       "                                       Chapter_subtype  \n",
       "0                                          Preliminary  \n",
       "3                                       Of punishments  \n",
       "13                                  General exceptions  \n",
       "33                         Of right of private defence  \n",
       "61                                          Of attempt  \n",
       "60                              Of criminal conspiracy  \n",
       "44                                         of abetment  \n",
       "87                         Of causing miscarriage, etc  \n",
       "73         Of criminal force and assault against woman  \n",
       "92                           Of offences against child  \n",
       "79                    Of offences relating to marriage  \n",
       "62                                  Of sexual offences  \n",
       "127                      Of criminal force and assault  \n",
       "113                                            Of hurt  \n",
       "136  Of kidnapping, abduction, slavery and forced l...  \n",
       "99                          Of offences affecting life  \n",
       "125     Of wrongful restraint and wrongful confinement  \n",
       "146                      OF OFFENCES AGAINST THE STATE  \n",
       "158  OF OFFENCES RELATING TO THE ARMY, NAVY AND AIR...  \n",
       "168                  OF OFFENCES RELATING TO ELECTIONS  \n",
       "177  OF OFFENCES RELATING TO COIN, CURRENCY-NOTES, ...  \n",
       "188        OF OFFENCES AGAINST THE PUBLIC TRANQUILLITY  \n",
       "197      OF OFFENCES BY OR RELATING TO PUBLIC SERVANTS  \n",
       "205  OF CONTEMPTS OF THE LAWFUL AUTHORITY OF PUBLIC...  \n",
       "226  OF FALSE EVIDENCE AND OFFENCES AGAINST PUBLIC ...  \n",
       "269  OF OFFENCES AFFECTING THE PUBLIC HEALTH, SAFET...  \n",
       "297                   OF OFFENCES RELATING TO RELIGION  \n",
       "317                                        Of cheating  \n",
       "315                        Of criminal breach of trust  \n",
       "313           Of criminal misappropriation of property  \n",
       "328                               Of criminal trespass  \n",
       "307                                       Of extortion  \n",
       "319   Of fraudulent deeds and dispositions of property  \n",
       "323                                        Of mischief  \n",
       "316                       Of receiving stolen property  \n",
       "308                             Of robbery and dacoity  \n",
       "302                                           Of theft  \n",
       "334  OF OFFENCES RELATING TO DOCUMENTS AND TO PROPE...  \n",
       "344                                  Of property marks  \n",
       "350  OF CRIMINAL INTIMIDATION, INSULT, ANNOYANCE, D...  \n",
       "356  Of breach of contract to attend on and supply ...  \n",
       "355                                      Of defamation  \n",
       "357                                 REPEAL AND SAVINGS  "
      ]
     },
     "execution_count": 18,
     "metadata": {},
     "output_type": "execute_result"
    }
   ],
   "source": [
    "subtype_map = df[['Chapter', 'Chapter_short',\n",
    "                  'Chapter_subtype']].drop_duplicates()\n",
    "subtype_map = subtype_map.sort_values(['Chapter', 'Chapter_subtype'])\n",
    "\n",
    "subtype_map"
   ]
  },
  {
   "cell_type": "markdown",
   "id": "9e742fa0",
   "metadata": {},
   "source": [
    "## Class Imbalance Severity"
   ]
  },
  {
   "cell_type": "code",
   "execution_count": 19,
   "id": "817bdff6",
   "metadata": {
    "ExecuteTime": {
     "end_time": "2025-08-08T15:53:03.199792Z",
     "start_time": "2025-08-08T15:53:02.912760Z"
    }
   },
   "outputs": [
    {
     "data": {
      "image/png": "[encoded data removed]",
      "text/plain": [
       "<Figure size 576x432 with 1 Axes>"
      ]
     },
     "metadata": {
      "needs_background": "light"
     },
     "output_type": "display_data"
    },
    {
     "name": "stdout",
     "output_type": "stream",
     "text": [
      "Imbalance ratio (max/min): 47.00\n"
     ]
    }
   ],
   "source": [
    "chapter_counts.plot(kind='barh', figsize=(8,6))\n",
    "plt.title(\"Section Count by Chapter\")\n",
    "plt.xlabel(\"Sections\")\n",
    "plt.ylabel(\"Chapter Name\")\n",
    "plt.tight_layout()\n",
    "plt.show()\n",
    "\n",
    "imbalance_ratio = chapter_counts.max() / chapter_counts.min()\n",
    "print(f\"Imbalance ratio (max/min): {imbalance_ratio:.2f}\")\n"
   ]
  },
  {
   "cell_type": "code",
   "execution_count": 20,
   "id": "6fb45131",
   "metadata": {
    "ExecuteTime": {
     "end_time": "2025-08-08T15:54:23.792088Z",
     "start_time": "2025-08-08T15:54:23.787101Z"
    }
   },
   "outputs": [],
   "source": [
    "chapter_counts = df['Chapter_short'].value_counts()\n",
    "rare_chapters = chapter_counts[chapter_counts < 5].index.tolist()\n",
    "df['Chapter_grouped'] = df['Chapter_short'].apply(\n",
    "    lambda x: x if x not in rare_chapters else 'Other')"
   ]
  },
  {
   "cell_type": "code",
   "execution_count": 21,
   "id": "441833f8",
   "metadata": {
    "ExecuteTime": {
     "end_time": "2025-08-08T15:54:29.242049Z",
     "start_time": "2025-08-08T15:54:28.995045Z"
    }
   },
   "outputs": [
    {
     "data": {
      "image/png": "[encoded data removed]",
      "text/plain": [
       "<Figure size 720x432 with 1 Axes>"
      ]
     },
     "metadata": {
      "needs_background": "light"
     },
     "output_type": "display_data"
    }
   ],
   "source": [
    "import matplotlib.pyplot as plt\n",
    "\n",
    "df['Chapter_grouped'].value_counts().sort_values().plot(\n",
    "    kind='barh', figsize=(10, 6))\n",
    "plt.title(\"Number of Sections per Chapter (Grouped)\")\n",
    "plt.xlabel(\"Count\")\n",
    "plt.tight_layout()\n",
    "plt.show()"
   ]
  },
  {
   "cell_type": "code",
   "execution_count": 22,
   "id": "97bb5215",
   "metadata": {},
   "outputs": [],
   "source": [
    "df.to_csv('bns_processed.csv', index=False)"
   ]
  },
  {
   "cell_type": "code",
   "execution_count": null,
   "id": "c872ce46",
   "metadata": {},
   "outputs": [],
   "source": []
  }
 ],
 "metadata": {
  "kernelspec": {
   "display_name": "base",
   "language": "python",
   "name": "python3"
  },
  "language_info": {
   "codemirror_mode": {
    "name": "ipython",
    "version": 3
   },
   "file_extension": ".py",
   "mimetype": "text/x-python",
   "name": "python",
   "nbconvert_exporter": "python",
   "pygments_lexer": "ipython3",
   "version": "3.9.12"
  }
 },
 "nbformat": 4,
 "nbformat_minor": 5
}
